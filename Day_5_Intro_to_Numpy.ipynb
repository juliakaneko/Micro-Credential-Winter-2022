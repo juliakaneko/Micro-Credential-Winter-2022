{
  "nbformat": 4,
  "nbformat_minor": 0,
  "metadata": {
    "colab": {
      "name": "Day_5 Intro to Numpy.ipynb",
      "provenance": [],
      "collapsed_sections": [],
      "authorship_tag": "ABX9TyOlU6WUPBjVUvQn+HPugejf",
      "include_colab_link": true
    },
    "kernelspec": {
      "name": "python3",
      "display_name": "Python 3"
    },
    "language_info": {
      "name": "python"
    }
  },
  "cells": [
    {
      "cell_type": "markdown",
      "metadata": {
        "id": "view-in-github",
        "colab_type": "text"
      },
      "source": [
        "<a href=\"https://colab.research.google.com/github/juliakaneko/Micro-Credential-Winter-2022/blob/main/Day_5_Intro_to_Numpy.ipynb\" target=\"_parent\"><img src=\"https://colab.research.google.com/assets/colab-badge.svg\" alt=\"Open In Colab\"/></a>"
      ]
    },
    {
      "cell_type": "markdown",
      "source": [
        "# Intro to Numpt"
      ],
      "metadata": {
        "id": "RWi0snFH528J"
      }
    },
    {
      "cell_type": "code",
      "source": [
        "import numpy as np"
      ],
      "metadata": {
        "id": "S2BcslHP6srS"
      },
      "execution_count": 3,
      "outputs": []
    },
    {
      "cell_type": "code",
      "source": [
        "#np.array takes a list\n",
        "np_city = np.array(['NYC','LA','Miami','Houston'])"
      ],
      "metadata": {
        "id": "j6N9n1_Z6spa"
      },
      "execution_count": 6,
      "outputs": []
    },
    {
      "cell_type": "code",
      "source": [
        "np_city.shape"
      ],
      "metadata": {
        "colab": {
          "base_uri": "https://localhost:8080/"
        },
        "id": "jafaK-Dp6sny",
        "outputId": "8c5dc227-79b0-448c-e974-da4ec9e546cb"
      },
      "execution_count": 10,
      "outputs": [
        {
          "output_type": "execute_result",
          "data": {
            "text/plain": [
              "(4,)"
            ]
          },
          "metadata": {},
          "execution_count": 10
        }
      ]
    },
    {
      "cell_type": "code",
      "source": [
        "#4 like the number of items in the np.array list\n",
        "np_city.size"
      ],
      "metadata": {
        "colab": {
          "base_uri": "https://localhost:8080/"
        },
        "id": "ppATLaRJ7m9r",
        "outputId": "9496fd4b-aaf2-4c04-f736-960b998ae9c1"
      },
      "execution_count": 12,
      "outputs": [
        {
          "output_type": "execute_result",
          "data": {
            "text/plain": [
              "4"
            ]
          },
          "metadata": {},
          "execution_count": 12
        }
      ]
    },
    {
      "cell_type": "code",
      "source": [
        "np_city.dtype"
      ],
      "metadata": {
        "colab": {
          "base_uri": "https://localhost:8080/"
        },
        "id": "CrEDMJw97syC",
        "outputId": "e7cb3079-eb8a-4c0a-89fc-cef9cf3d7a1d"
      },
      "execution_count": 13,
      "outputs": [
        {
          "output_type": "execute_result",
          "data": {
            "text/plain": [
              "dtype('<U7')"
            ]
          },
          "metadata": {},
          "execution_count": 13
        }
      ]
    },
    {
      "cell_type": "code",
      "source": [
        "np_city2 = np.array([['NYC','LA','Miami','Houston'],\n",
        "                     ['NY','CA','FL','TX']])"
      ],
      "metadata": {
        "id": "a2gBoWAo76cu"
      },
      "execution_count": 15,
      "outputs": []
    },
    {
      "cell_type": "code",
      "source": [
        "# 2 lists with 4 elements each\n",
        "np_city2.shape"
      ],
      "metadata": {
        "colab": {
          "base_uri": "https://localhost:8080/"
        },
        "id": "R06APMfw79qX",
        "outputId": "d6eff954-ceff-4bfc-f780-bc1aa2cb8f87"
      },
      "execution_count": 19,
      "outputs": [
        {
          "output_type": "execute_result",
          "data": {
            "text/plain": [
              "(2, 4)"
            ]
          },
          "metadata": {},
          "execution_count": 19
        }
      ]
    },
    {
      "cell_type": "code",
      "source": [
        "# In total 8 items\n",
        "np_city2.size"
      ],
      "metadata": {
        "colab": {
          "base_uri": "https://localhost:8080/"
        },
        "id": "l-e1GcLH6skf",
        "outputId": "ad0d91ca-7eea-4a71-b71c-4ddbe4a1fbc4"
      },
      "execution_count": 21,
      "outputs": [
        {
          "output_type": "execute_result",
          "data": {
            "text/plain": [
              "8"
            ]
          },
          "metadata": {},
          "execution_count": 21
        }
      ]
    },
    {
      "cell_type": "code",
      "source": [
        "np_city.dtype"
      ],
      "metadata": {
        "colab": {
          "base_uri": "https://localhost:8080/"
        },
        "id": "HnG96fnw6siq",
        "outputId": "8889d6d1-ee22-49a7-b719-6acf3238a9ea"
      },
      "execution_count": 20,
      "outputs": [
        {
          "output_type": "execute_result",
          "data": {
            "text/plain": [
              "dtype('<U7')"
            ]
          },
          "metadata": {},
          "execution_count": 20
        }
      ]
    },
    {
      "cell_type": "code",
      "source": [
        "# Create a np.array with 5 list in it...\n",
        "# each list must have 10 items in it"
      ],
      "metadata": {
        "id": "9FpGthwy6shK"
      },
      "execution_count": 22,
      "outputs": []
    },
    {
      "cell_type": "code",
      "source": [
        "np_animals = ([['pugs', 'pomeranian', 'german shepard', 'poodle', 'bulldog', 'husky', 'labrador retriever', 'Pit bull terrier', 'shiba', 'dobermann'],\n",
        "              ['persian', 'maine coon', 'bengal', 'british short hair', 'siamese', 'sphinx', 'ragdoll', 'munchkin', 'scottish fold', 'norwegian forest cat'], \n",
        "              ['python', 'cobras', 'vipers', 'anaconda', 'titanoboa', 'kingsnakes', 'garter', 'coral reef', 'taipan', 'colubrid'],\n",
        "              ['a','b','c','d','e','f','g','h','i','j'],\n",
        "              ['a','b','c','d','e','f','g','h','i','j']])"
      ],
      "metadata": {
        "id": "IF8oCSis6sfS"
      },
      "execution_count": 61,
      "outputs": []
    },
    {
      "cell_type": "code",
      "source": [
        "np_animals.size"
      ],
      "metadata": {
        "colab": {
          "base_uri": "https://localhost:8080/",
          "height": 201
        },
        "id": "kgYZyk5gDUoH",
        "outputId": "108731d4-ee49-4c9e-ec2a-5422c087695f"
      },
      "execution_count": 64,
      "outputs": [
        {
          "output_type": "error",
          "ename": "AttributeError",
          "evalue": "ignored",
          "traceback": [
            "\u001b[0;31m---------------------------------------------------------------------------\u001b[0m",
            "\u001b[0;31mAttributeError\u001b[0m                            Traceback (most recent call last)",
            "\u001b[0;32m<ipython-input-64-a3ccc68d17d9>\u001b[0m in \u001b[0;36m<module>\u001b[0;34m()\u001b[0m\n\u001b[0;32m----> 1\u001b[0;31m \u001b[0mnp_animals\u001b[0m\u001b[0;34m.\u001b[0m\u001b[0msize\u001b[0m\u001b[0;34m\u001b[0m\u001b[0;34m\u001b[0m\u001b[0m\n\u001b[0m",
            "\u001b[0;31mAttributeError\u001b[0m: 'list' object has no attribute 'size'"
          ]
        }
      ]
    },
    {
      "cell_type": "markdown",
      "source": [
        "## Basic Operations"
      ],
      "metadata": {
        "id": "qnCrybJ4_Bhv"
      }
    },
    {
      "cell_type": "code",
      "source": [
        "first_trial_cyclist = [10, 15, 17, 26, 37, 49, 57, 61]"
      ],
      "metadata": {
        "id": "hfahfzQk6sdb"
      },
      "execution_count": 27,
      "outputs": []
    },
    {
      "cell_type": "code",
      "source": [
        "second_trial_cyclist = [11, 45, 65, 24, 23, 45, 90, 99]"
      ],
      "metadata": {
        "id": "mLDjQ5Ie--nj"
      },
      "execution_count": 28,
      "outputs": []
    },
    {
      "cell_type": "code",
      "source": [
        "np_first_trial = np.array(first_trial_cyclist)\n",
        "np_second_trial = np.array(second_trial_cyclist)"
      ],
      "metadata": {
        "id": "SWOjw-CF_AFB"
      },
      "execution_count": 29,
      "outputs": []
    },
    {
      "cell_type": "code",
      "source": [
        "#Adds the 2 items in the sample place in each list\n",
        "np_first_trial + np_second_trial"
      ],
      "metadata": {
        "colab": {
          "base_uri": "https://localhost:8080/"
        },
        "id": "AzpDn8F-_MhO",
        "outputId": "1c16174c-d6b5-48d1-9528-ab72cebf5d68"
      },
      "execution_count": 32,
      "outputs": [
        {
          "output_type": "execute_result",
          "data": {
            "text/plain": [
              "array([ 21,  60,  82,  50,  60,  94, 147, 160])"
            ]
          },
          "metadata": {},
          "execution_count": 32
        }
      ]
    },
    {
      "cell_type": "code",
      "source": [
        "#15*45\n",
        "np_first_trial[1] * np_second_trial[5]"
      ],
      "metadata": {
        "colab": {
          "base_uri": "https://localhost:8080/"
        },
        "id": "ksgfleFr_ZYg",
        "outputId": "454177d1-41c6-41f6-b8e6-0d395a6f21c4"
      },
      "execution_count": 34,
      "outputs": [
        {
          "output_type": "execute_result",
          "data": {
            "text/plain": [
              "675"
            ]
          },
          "metadata": {},
          "execution_count": 34
        }
      ]
    },
    {
      "cell_type": "markdown",
      "source": [
        "## Accesing array elements - indexing"
      ],
      "metadata": {
        "id": "w8LW9kzu_-iy"
      }
    },
    {
      "cell_type": "code",
      "source": [
        "#Two dimentional array\n",
        "cyclist_trial = np.array([[10, 15, 17, 26],[12, 11, 21, 24]])"
      ],
      "metadata": {
        "id": "J5Ch5C_4AN2e"
      },
      "execution_count": 36,
      "outputs": []
    },
    {
      "cell_type": "code",
      "source": [
        "first_trial = cyclist_trial[0]"
      ],
      "metadata": {
        "id": "qSCRlSCwA7nb"
      },
      "execution_count": 38,
      "outputs": []
    },
    {
      "cell_type": "code",
      "source": [
        "first_trial"
      ],
      "metadata": {
        "colab": {
          "base_uri": "https://localhost:8080/"
        },
        "id": "_h8ZE45nA8wt",
        "outputId": "c44a468d-d5c8-46a3-fa9a-c6b7ca92f1bf"
      },
      "execution_count": 39,
      "outputs": [
        {
          "output_type": "execute_result",
          "data": {
            "text/plain": [
              "array([10, 15, 17, 26])"
            ]
          },
          "metadata": {},
          "execution_count": 39
        }
      ]
    },
    {
      "cell_type": "code",
      "source": [
        "newlist = ['string1','string2']"
      ],
      "metadata": {
        "id": "Lg2agdILBFAg"
      },
      "execution_count": 41,
      "outputs": []
    },
    {
      "cell_type": "code",
      "source": [
        "newlist[0]"
      ],
      "metadata": {
        "colab": {
          "base_uri": "https://localhost:8080/",
          "height": 35
        },
        "id": "ltEqV4VcBLmV",
        "outputId": "c8a1eb60-33e3-4c49-e76c-343cb3a26f40"
      },
      "execution_count": 43,
      "outputs": [
        {
          "output_type": "execute_result",
          "data": {
            "application/vnd.google.colaboratory.intrinsic+json": {
              "type": "string"
            },
            "text/plain": [
              "'string1'"
            ]
          },
          "metadata": {},
          "execution_count": 43
        }
      ]
    },
    {
      "cell_type": "code",
      "source": [
        "newlist[0][2]"
      ],
      "metadata": {
        "colab": {
          "base_uri": "https://localhost:8080/",
          "height": 35
        },
        "id": "RkDre8WHBPQo",
        "outputId": "55166036-bed6-4c6b-f0fb-d689fbac53ff"
      },
      "execution_count": 44,
      "outputs": [
        {
          "output_type": "execute_result",
          "data": {
            "application/vnd.google.colaboratory.intrinsic+json": {
              "type": "string"
            },
            "text/plain": [
              "'r'"
            ]
          },
          "metadata": {},
          "execution_count": 44
        }
      ]
    },
    {
      "cell_type": "code",
      "source": [
        "second_trial = cyclist_trial[1]"
      ],
      "metadata": {
        "id": "0D58pAcnBYW4"
      },
      "execution_count": 59,
      "outputs": []
    },
    {
      "cell_type": "code",
      "source": [
        "second_trial"
      ],
      "metadata": {
        "colab": {
          "base_uri": "https://localhost:8080/"
        },
        "id": "3XjrXWgVBd-q",
        "outputId": "af953416-0cfa-4b14-ffd5-f911156501f0"
      },
      "execution_count": 60,
      "outputs": [
        {
          "output_type": "execute_result",
          "data": {
            "text/plain": [
              "array([12, 11, 21, 24])"
            ]
          },
          "metadata": {},
          "execution_count": 60
        }
      ]
    },
    {
      "cell_type": "code",
      "source": [
        "#this is the same as saying cyclist_trial[0][1]\n",
        "first_trial[1]"
      ],
      "metadata": {
        "colab": {
          "base_uri": "https://localhost:8080/"
        },
        "id": "axscxf2wBfSv",
        "outputId": "e4ed5f84-591f-4bd3-edbe-7dc202b10b9b"
      },
      "execution_count": 48,
      "outputs": [
        {
          "output_type": "execute_result",
          "data": {
            "text/plain": [
              "15"
            ]
          },
          "metadata": {},
          "execution_count": 48
        }
      ]
    },
    {
      "cell_type": "code",
      "source": [
        "cyclist_trial[0][1]"
      ],
      "metadata": {
        "colab": {
          "base_uri": "https://localhost:8080/"
        },
        "id": "pmVegSG5BifI",
        "outputId": "e0fac332-a839-4e40-f0e2-f8cbf7c9a3e0"
      },
      "execution_count": 49,
      "outputs": [
        {
          "output_type": "execute_result",
          "data": {
            "text/plain": [
              "15"
            ]
          },
          "metadata": {},
          "execution_count": 49
        }
      ]
    },
    {
      "cell_type": "markdown",
      "source": [
        "## Boolean Arrays"
      ],
      "metadata": {
        "id": "6LilWBRbBx1P"
      }
    },
    {
      "cell_type": "code",
      "source": [
        "test_score = np.array([[83,71,67,63],\n",
        "                       [54,68,81,45]])"
      ],
      "metadata": {
        "id": "diQZcbmzB10n"
      },
      "execution_count": 54,
      "outputs": []
    },
    {
      "cell_type": "code",
      "source": [
        "passed = test_score > 60"
      ],
      "metadata": {
        "id": "C2qggaNfCB9N"
      },
      "execution_count": 55,
      "outputs": []
    },
    {
      "cell_type": "code",
      "source": [
        "passed"
      ],
      "metadata": {
        "colab": {
          "base_uri": "https://localhost:8080/"
        },
        "id": "WzSx63F4CJ7d",
        "outputId": "1e76bd4f-8f2e-4a23-e1d1-fbd171a73855"
      },
      "execution_count": 56,
      "outputs": [
        {
          "output_type": "execute_result",
          "data": {
            "text/plain": [
              "array([[ True,  True,  True,  True],\n",
              "       [False,  True,  True, False]])"
            ]
          },
          "metadata": {},
          "execution_count": 56
        }
      ]
    },
    {
      "cell_type": "markdown",
      "source": [
        "##Copy and View"
      ],
      "metadata": {
        "id": "Scj50RswCLM0"
      }
    },
    {
      "cell_type": "code",
      "source": [
        "test2_scores = test_score"
      ],
      "metadata": {
        "id": "XZ260ponCSxU"
      },
      "execution_count": 57,
      "outputs": []
    },
    {
      "cell_type": "code",
      "source": [
        "test_score is test2_scores"
      ],
      "metadata": {
        "colab": {
          "base_uri": "https://localhost:8080/"
        },
        "id": "GimCzTbVCnku",
        "outputId": "b1e125a0-5493-4c17-d30b-bdc658c05590"
      },
      "execution_count": 58,
      "outputs": [
        {
          "output_type": "execute_result",
          "data": {
            "text/plain": [
              "True"
            ]
          },
          "metadata": {},
          "execution_count": 58
        }
      ]
    },
    {
      "cell_type": "code",
      "source": [
        "test2_scores[1][3] = 78"
      ],
      "metadata": {
        "id": "xJhMJdPfGSkr"
      },
      "execution_count": 89,
      "outputs": []
    },
    {
      "cell_type": "code",
      "source": [
        "#The 4th item in the 2nd line has turned from 45 to 78\n",
        "test2_scores"
      ],
      "metadata": {
        "colab": {
          "base_uri": "https://localhost:8080/"
        },
        "id": "kamIfU0HGW8c",
        "outputId": "f0ccd6e3-5211-4700-a01b-f8e1e87f9593"
      },
      "execution_count": 92,
      "outputs": [
        {
          "output_type": "execute_result",
          "data": {
            "text/plain": [
              "array([[83, 71, 67, 63],\n",
              "       [54, 68, 81, 78]])"
            ]
          },
          "metadata": {},
          "execution_count": 92
        }
      ]
    },
    {
      "cell_type": "code",
      "source": [
        "test_score"
      ],
      "metadata": {
        "colab": {
          "base_uri": "https://localhost:8080/"
        },
        "id": "ixC-AfKfGmWq",
        "outputId": "79f1bc00-3f07-40a2-bf6a-df5f8c4a285d"
      },
      "execution_count": 93,
      "outputs": [
        {
          "output_type": "execute_result",
          "data": {
            "text/plain": [
              "array([[83, 71, 67, 63],\n",
              "       [54, 68, 81, 78]])"
            ]
          },
          "metadata": {},
          "execution_count": 93
        }
      ]
    },
    {
      "cell_type": "markdown",
      "source": [
        "## Array (Boroughs)"
      ],
      "metadata": {
        "id": "Cf6izKqcGn38"
      }
    },
    {
      "cell_type": "code",
      "source": [
        "NYC_Boroughs = np.array (['Manhattan', 'Brooklyn','Queens','Bronx','Staten Island'])"
      ],
      "metadata": {
        "id": "tLaTD4PtCqCH"
      },
      "execution_count": 100,
      "outputs": []
    },
    {
      "cell_type": "code",
      "source": [
        "#Original dataset\n",
        "NYC_Boroughs"
      ],
      "metadata": {
        "colab": {
          "base_uri": "https://localhost:8080/"
        },
        "id": "WDpLE13wFd4i",
        "outputId": "c11ed551-db07-4c0d-87f7-60e38b25ee54"
      },
      "execution_count": 101,
      "outputs": [
        {
          "output_type": "execute_result",
          "data": {
            "text/plain": [
              "array(['Manhattan', 'Brooklyn', 'Queens', 'Bronx', 'Staten Island'],\n",
              "      dtype='<U13')"
            ]
          },
          "metadata": {},
          "execution_count": 101
        }
      ]
    },
    {
      "cell_type": "code",
      "source": [
        "#Creating a shallow copy\n",
        "NY_Boroughs = NYC_Boroughs.view()"
      ],
      "metadata": {
        "id": "P-TilCVFD-Q5"
      },
      "execution_count": 102,
      "outputs": []
    },
    {
      "cell_type": "code",
      "source": [
        "#Counts the number of items in the list\n",
        "len(NY_Boroughs)"
      ],
      "metadata": {
        "colab": {
          "base_uri": "https://localhost:8080/"
        },
        "id": "1PVyAU1eELaC",
        "outputId": "c60beb0c-716c-46c0-b635-670ac18a2bfd"
      },
      "execution_count": 103,
      "outputs": [
        {
          "output_type": "execute_result",
          "data": {
            "text/plain": [
              "5"
            ]
          },
          "metadata": {},
          "execution_count": 103
        }
      ]
    },
    {
      "cell_type": "code",
      "source": [
        "#Changes the item number 4 from Staten Island to Central Park\n",
        "NY_Boroughs[4] = 'Central Park'"
      ],
      "metadata": {
        "id": "xTm66FzLENYG"
      },
      "execution_count": 104,
      "outputs": []
    },
    {
      "cell_type": "code",
      "source": [
        "len(NY_Boroughs)"
      ],
      "metadata": {
        "colab": {
          "base_uri": "https://localhost:8080/"
        },
        "id": "LRK66olOEZKe",
        "outputId": "3a91f58a-3ada-4f08-bf3c-b092998299ea"
      },
      "execution_count": 105,
      "outputs": [
        {
          "output_type": "execute_result",
          "data": {
            "text/plain": [
              "5"
            ]
          },
          "metadata": {},
          "execution_count": 105
        }
      ]
    },
    {
      "cell_type": "code",
      "source": [
        "#Assigned dataset\n",
        "NY_Boroughs"
      ],
      "metadata": {
        "colab": {
          "base_uri": "https://localhost:8080/"
        },
        "id": "XefdHJSrEcdX",
        "outputId": "95817bd3-b721-4d53-848b-6a5c2864003a"
      },
      "execution_count": 106,
      "outputs": [
        {
          "output_type": "execute_result",
          "data": {
            "text/plain": [
              "array(['Manhattan', 'Brooklyn', 'Queens', 'Bronx', 'Central Park'],\n",
              "      dtype='<U13')"
            ]
          },
          "metadata": {},
          "execution_count": 106
        }
      ]
    },
    {
      "cell_type": "code",
      "source": [
        "NYC_Boroughs is NY_Boroughs\n",
        "#If you try to do a is func"
      ],
      "metadata": {
        "colab": {
          "base_uri": "https://localhost:8080/"
        },
        "id": "5MVDwtZ0EnC8",
        "outputId": "16d21903-feb8-4a8e-f397-cb0321516661"
      },
      "execution_count": 107,
      "outputs": [
        {
          "output_type": "execute_result",
          "data": {
            "text/plain": [
              "False"
            ]
          },
          "metadata": {},
          "execution_count": 107
        }
      ]
    },
    {
      "cell_type": "code",
      "source": [
        "NYC = NYC_Boroughs.copy()"
      ],
      "metadata": {
        "id": "WxxX51FDFGL5"
      },
      "execution_count": 108,
      "outputs": []
    },
    {
      "cell_type": "code",
      "source": [
        "NYC[4] = 'Astoria'"
      ],
      "metadata": {
        "id": "P6vDqj2dHWXY"
      },
      "execution_count": 109,
      "outputs": []
    },
    {
      "cell_type": "code",
      "source": [
        "NYC_Boroughs"
      ],
      "metadata": {
        "colab": {
          "base_uri": "https://localhost:8080/"
        },
        "id": "cy0A2_jEHZUN",
        "outputId": "dc592ae1-2761-44fb-ecc6-ff0153fa5f8a"
      },
      "execution_count": 110,
      "outputs": [
        {
          "output_type": "execute_result",
          "data": {
            "text/plain": [
              "array(['Manhattan', 'Brooklyn', 'Queens', 'Bronx', 'Central Park'],\n",
              "      dtype='<U13')"
            ]
          },
          "metadata": {},
          "execution_count": 110
        }
      ]
    },
    {
      "cell_type": "code",
      "source": [
        "NYC "
      ],
      "metadata": {
        "colab": {
          "base_uri": "https://localhost:8080/"
        },
        "id": "gfKB4XL4FHor",
        "outputId": "9e983c1d-2cc9-4aa2-c0f1-b1884e8e8529"
      },
      "execution_count": 111,
      "outputs": [
        {
          "output_type": "execute_result",
          "data": {
            "text/plain": [
              "array(['Manhattan', 'Brooklyn', 'Queens', 'Bronx', 'Astoria'],\n",
              "      dtype='<U13')"
            ]
          },
          "metadata": {},
          "execution_count": 111
        }
      ]
    }
  ]
}