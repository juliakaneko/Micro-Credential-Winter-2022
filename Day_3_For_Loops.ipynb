{
  "nbformat": 4,
  "nbformat_minor": 0,
  "metadata": {
    "colab": {
      "name": "Day-3 For Loops.ipynb",
      "provenance": [],
      "collapsed_sections": [
        "8UMiG0_T7NWL"
      ],
      "authorship_tag": "ABX9TyPzEGWJbpLO96UpPaDZOqL4",
      "include_colab_link": true
    },
    "kernelspec": {
      "name": "python3",
      "display_name": "Python 3"
    },
    "language_info": {
      "name": "python"
    }
  },
  "cells": [
    {
      "cell_type": "markdown",
      "metadata": {
        "id": "view-in-github",
        "colab_type": "text"
      },
      "source": [
        "<a href=\"https://colab.research.google.com/github/juliakaneko/Micro-Credential-Winter-2022/blob/main/Day_3_For_Loops.ipynb\" target=\"_parent\"><img src=\"https://colab.research.google.com/assets/colab-badge.svg\" alt=\"Open In Colab\"/></a>"
      ]
    },
    {
      "cell_type": "markdown",
      "source": [
        "# For Loops"
      ],
      "metadata": {
        "id": "8UMiG0_T7NWL"
      }
    },
    {
      "cell_type": "code",
      "source": [
        "for x in 'CUNY':\n",
        "  print(x)"
      ],
      "metadata": {
        "colab": {
          "base_uri": "https://localhost:8080/"
        },
        "id": "5aSTgH_u7XWj",
        "outputId": "edf865ef-a41f-4425-d4e1-ddd4a10acfb1"
      },
      "execution_count": null,
      "outputs": [
        {
          "output_type": "stream",
          "name": "stdout",
          "text": [
            "C\n",
            "U\n",
            "N\n",
            "Y\n"
          ]
        }
      ]
    },
    {
      "cell_type": "code",
      "source": [
        "TV_Shows = ['Game of Thrones', 'Star Trek','Stranger Things']"
      ],
      "metadata": {
        "id": "Dayb3jS-7XTj"
      },
      "execution_count": null,
      "outputs": []
    },
    {
      "cell_type": "code",
      "source": [
        "'''\n",
        "x is a built in variable that prints out the items on the list\n",
        "(Continues loop until complete)\n",
        "The variable x is only usable in this loop and once the loop is gone the t does not exist\n",
        "'''\n",
        "for show in TV_Shows:\n",
        "  print(show)"
      ],
      "metadata": {
        "colab": {
          "base_uri": "https://localhost:8080/"
        },
        "id": "Eb6x3NIr7XRC",
        "outputId": "2bdab509-aacb-4614-c6f7-2986c6542c03"
      },
      "execution_count": null,
      "outputs": [
        {
          "output_type": "stream",
          "name": "stdout",
          "text": [
            "Game of Thrones\n",
            "Star Trek\n",
            "Stranger Things\n"
          ]
        }
      ]
    },
    {
      "cell_type": "code",
      "source": [
        "TV_Shows = ['Game of Thrones', 'Star Trek','Stranger Things']\n",
        "for show in TV_Shows:\n",
        "  print(show.title() + ' is one of my fav TV shows')"
      ],
      "metadata": {
        "colab": {
          "base_uri": "https://localhost:8080/"
        },
        "id": "98E1S7gR7XMV",
        "outputId": "ede34a29-140d-44cd-d084-63418fe12c6b"
      },
      "execution_count": null,
      "outputs": [
        {
          "output_type": "stream",
          "name": "stdout",
          "text": [
            "Game Of Thrones is one of my fav TV shows\n",
            "Star Trek is one of my fav TV shows\n",
            "Stranger Things is one of my fav TV shows\n"
          ]
        }
      ]
    },
    {
      "cell_type": "code",
      "source": [
        "Fruits = []"
      ],
      "metadata": {
        "id": "uZj7fh277XJb"
      },
      "execution_count": null,
      "outputs": []
    },
    {
      "cell_type": "code",
      "source": [
        "Fruits.append('Pear')"
      ],
      "metadata": {
        "id": "7AqQJ50X7XGE"
      },
      "execution_count": null,
      "outputs": []
    },
    {
      "cell_type": "code",
      "source": [
        "Fruits"
      ],
      "metadata": {
        "colab": {
          "base_uri": "https://localhost:8080/"
        },
        "id": "Xhe7Jxt17XDv",
        "outputId": "2e59f036-4f6a-4dd0-9670-223218a7d665"
      },
      "execution_count": null,
      "outputs": [
        {
          "output_type": "execute_result",
          "data": {
            "text/plain": [
              "['Pear']"
            ]
          },
          "metadata": {},
          "execution_count": 204
        }
      ]
    },
    {
      "cell_type": "code",
      "source": [
        "for x in Fruits:\n",
        "  print(x.title() + ' is one of my favorite fruits.')"
      ],
      "metadata": {
        "colab": {
          "base_uri": "https://localhost:8080/"
        },
        "id": "xRa0tTKEAZni",
        "outputId": "4adb33a7-63ca-4b53-c66b-ca4a8c4e8a58"
      },
      "execution_count": null,
      "outputs": [
        {
          "output_type": "stream",
          "name": "stdout",
          "text": [
            "Pear is one of my favorite fruits.\n"
          ]
        }
      ]
    },
    {
      "cell_type": "code",
      "source": [
        "Fruits.append('lettuce')"
      ],
      "metadata": {
        "id": "Uu-oKXGOCDP-"
      },
      "execution_count": null,
      "outputs": []
    },
    {
      "cell_type": "code",
      "source": [
        "Fruits"
      ],
      "metadata": {
        "colab": {
          "base_uri": "https://localhost:8080/"
        },
        "id": "XL7_V9H6CXpA",
        "outputId": "eaaf07fa-7a9a-4fef-8741-edcd2515ab73"
      },
      "execution_count": null,
      "outputs": [
        {
          "output_type": "execute_result",
          "data": {
            "text/plain": [
              "['Pear', 'lettuce']"
            ]
          },
          "metadata": {},
          "execution_count": 207
        }
      ]
    },
    {
      "cell_type": "code",
      "source": [
        "del Fruits[-1]"
      ],
      "metadata": {
        "id": "qJs6o7EwCaeg"
      },
      "execution_count": null,
      "outputs": []
    },
    {
      "cell_type": "code",
      "source": [
        "Fruits"
      ],
      "metadata": {
        "colab": {
          "base_uri": "https://localhost:8080/"
        },
        "id": "tS6A0BVwCc1T",
        "outputId": "9d87d256-71cf-4041-acba-073daf190743"
      },
      "execution_count": null,
      "outputs": [
        {
          "output_type": "execute_result",
          "data": {
            "text/plain": [
              "['Pear']"
            ]
          },
          "metadata": {},
          "execution_count": 209
        }
      ]
    },
    {
      "cell_type": "code",
      "source": [
        "TV_Shows"
      ],
      "metadata": {
        "colab": {
          "base_uri": "https://localhost:8080/"
        },
        "id": "tqqWEJoCCdjE",
        "outputId": "9f044374-542d-4d01-83aa-fa4f6e463308"
      },
      "execution_count": null,
      "outputs": [
        {
          "output_type": "execute_result",
          "data": {
            "text/plain": [
              "['Game of Thrones', 'Star Trek', 'Stranger Things']"
            ]
          },
          "metadata": {},
          "execution_count": 210
        }
      ]
    },
    {
      "cell_type": "markdown",
      "source": [
        "# Numbers"
      ],
      "metadata": {
        "id": "E5CJq276FgnB"
      }
    },
    {
      "cell_type": "code",
      "source": [
        "for x in range(1,21):\n",
        "  print(x+3)"
      ],
      "metadata": {
        "colab": {
          "base_uri": "https://localhost:8080/"
        },
        "id": "wLsnCl4gCfK6",
        "outputId": "3b151f88-1d31-429f-d23f-b206d29bb65f"
      },
      "execution_count": null,
      "outputs": [
        {
          "output_type": "stream",
          "name": "stdout",
          "text": [
            "4\n",
            "5\n",
            "6\n",
            "7\n",
            "8\n",
            "9\n",
            "10\n",
            "11\n",
            "12\n",
            "13\n",
            "14\n",
            "15\n",
            "16\n",
            "17\n",
            "18\n",
            "19\n",
            "20\n",
            "21\n",
            "22\n",
            "23\n"
          ]
        }
      ]
    },
    {
      "cell_type": "code",
      "source": [
        "list(range(1,21))\n",
        "\n",
        "#for x in (range(1,11)):\n",
        "#print(x)"
      ],
      "metadata": {
        "colab": {
          "base_uri": "https://localhost:8080/"
        },
        "id": "I43OrjXjClC_",
        "outputId": "6a33b891-5681-423f-d6ed-fd983fdcaebd"
      },
      "execution_count": null,
      "outputs": [
        {
          "output_type": "execute_result",
          "data": {
            "text/plain": [
              "[1, 2, 3, 4, 5, 6, 7, 8, 9, 10, 11, 12, 13, 14, 15, 16, 17, 18, 19, 20]"
            ]
          },
          "metadata": {},
          "execution_count": 100
        }
      ]
    },
    {
      "cell_type": "code",
      "source": [
        "list(range(1,21,2))\n",
        "\n",
        "#for x in (range(1,11)):\n",
        "#print(x)"
      ],
      "metadata": {
        "colab": {
          "base_uri": "https://localhost:8080/"
        },
        "id": "zmpPKujoCzg4",
        "outputId": "ca02d150-8ab7-45dc-aa19-6a0db5f4f16e"
      },
      "execution_count": null,
      "outputs": [
        {
          "output_type": "execute_result",
          "data": {
            "text/plain": [
              "[1, 3, 5, 7, 9, 11, 13, 15, 17, 19]"
            ]
          },
          "metadata": {},
          "execution_count": 101
        }
      ]
    },
    {
      "cell_type": "code",
      "source": [
        "list(range(1,21,5))\n",
        "\n",
        "#for x in (range(1,11)):\n",
        "#print(x)"
      ],
      "metadata": {
        "colab": {
          "base_uri": "https://localhost:8080/"
        },
        "id": "h-x5QKmdDJ17",
        "outputId": "bc866e6b-fa2b-4b6c-dd55-c2dba5c7fd6b"
      },
      "execution_count": null,
      "outputs": [
        {
          "output_type": "execute_result",
          "data": {
            "text/plain": [
              "[1, 6, 11, 16]"
            ]
          },
          "metadata": {},
          "execution_count": 102
        }
      ]
    },
    {
      "cell_type": "code",
      "source": [
        "list(range(1,21,-1))\n",
        "\n",
        "#for x in (range(1,11)):\n",
        "#print(x)"
      ],
      "metadata": {
        "colab": {
          "base_uri": "https://localhost:8080/"
        },
        "id": "MwMZGfSLDMCi",
        "outputId": "b4f3c26a-c54b-4473-8448-212945934798"
      },
      "execution_count": null,
      "outputs": [
        {
          "output_type": "execute_result",
          "data": {
            "text/plain": [
              "[]"
            ]
          },
          "metadata": {},
          "execution_count": 103
        }
      ]
    },
    {
      "cell_type": "code",
      "source": [
        "num = list(range(21,1,-1))\n",
        "\n",
        "#for x in (range(1,11)):\n",
        "#print(x)"
      ],
      "metadata": {
        "id": "Asl4FELwDNyB"
      },
      "execution_count": null,
      "outputs": []
    },
    {
      "cell_type": "code",
      "source": [
        "num"
      ],
      "metadata": {
        "colab": {
          "base_uri": "https://localhost:8080/"
        },
        "id": "xzaAqZg6DPvx",
        "outputId": "ce98d88d-ad08-4d4c-fa99-0bd505903e3d"
      },
      "execution_count": null,
      "outputs": [
        {
          "output_type": "execute_result",
          "data": {
            "text/plain": [
              "[21, 20, 19, 18, 17, 16, 15, 14, 13, 12, 11, 10, 9, 8, 7, 6, 5, 4, 3, 2]"
            ]
          },
          "metadata": {},
          "execution_count": 107
        }
      ]
    },
    {
      "cell_type": "code",
      "source": [
        "len(num)"
      ],
      "metadata": {
        "colab": {
          "base_uri": "https://localhost:8080/"
        },
        "id": "XRCCb5puDUZw",
        "outputId": "4cedc5a8-9a7b-4c62-8e18-33485ed765f4"
      },
      "execution_count": null,
      "outputs": [
        {
          "output_type": "execute_result",
          "data": {
            "text/plain": [
              "20"
            ]
          },
          "metadata": {},
          "execution_count": 108
        }
      ]
    },
    {
      "cell_type": "code",
      "source": [
        "min(num)"
      ],
      "metadata": {
        "colab": {
          "base_uri": "https://localhost:8080/"
        },
        "id": "oDlko4KTDl1d",
        "outputId": "e6060f53-7d82-42e8-8426-8fec51602aee"
      },
      "execution_count": null,
      "outputs": [
        {
          "output_type": "execute_result",
          "data": {
            "text/plain": [
              "2"
            ]
          },
          "metadata": {},
          "execution_count": 109
        }
      ]
    },
    {
      "cell_type": "code",
      "source": [
        "max(num)"
      ],
      "metadata": {
        "colab": {
          "base_uri": "https://localhost:8080/"
        },
        "id": "kIG12PbwDmZ_",
        "outputId": "cf343d09-4ba2-46ff-a197-e9169212bdc4"
      },
      "execution_count": null,
      "outputs": [
        {
          "output_type": "execute_result",
          "data": {
            "text/plain": [
              "21"
            ]
          },
          "metadata": {},
          "execution_count": 110
        }
      ]
    },
    {
      "cell_type": "code",
      "source": [
        "sum(num)"
      ],
      "metadata": {
        "colab": {
          "base_uri": "https://localhost:8080/"
        },
        "id": "GZ6IBnZ9DnOL",
        "outputId": "2f03ca32-8cf1-46de-fd27-04f745749a5b"
      },
      "execution_count": null,
      "outputs": [
        {
          "output_type": "execute_result",
          "data": {
            "text/plain": [
              "230"
            ]
          },
          "metadata": {},
          "execution_count": 111
        }
      ]
    },
    {
      "cell_type": "code",
      "source": [
        "List_1 = [1,2,3,4,5,6,7,8,9,10]"
      ],
      "metadata": {
        "id": "sCD-GrcrDyQX"
      },
      "execution_count": null,
      "outputs": []
    },
    {
      "cell_type": "code",
      "source": [
        "for num in List_1:\n",
        "  print(num)"
      ],
      "metadata": {
        "colab": {
          "base_uri": "https://localhost:8080/"
        },
        "id": "Il07_KB-D0LK",
        "outputId": "7ecda345-5095-4725-8986-b70ef0ad53f7"
      },
      "execution_count": null,
      "outputs": [
        {
          "output_type": "stream",
          "name": "stdout",
          "text": [
            "1\n",
            "2\n",
            "3\n",
            "4\n",
            "5\n",
            "6\n",
            "7\n",
            "8\n",
            "9\n",
            "10\n"
          ]
        }
      ]
    },
    {
      "cell_type": "code",
      "source": [
        "# Modulo gives us the remainder of a devision\n",
        "17 % 2"
      ],
      "metadata": {
        "colab": {
          "base_uri": "https://localhost:8080/"
        },
        "id": "7kO7qdo5D2Yc",
        "outputId": "00df4f93-5194-42c0-d00b-4a7c1b8aec01"
      },
      "execution_count": null,
      "outputs": [
        {
          "output_type": "execute_result",
          "data": {
            "text/plain": [
              "1"
            ]
          },
          "metadata": {},
          "execution_count": 175
        }
      ]
    },
    {
      "cell_type": "code",
      "source": [
        "18 % 7"
      ],
      "metadata": {
        "colab": {
          "base_uri": "https://localhost:8080/"
        },
        "id": "Fu__zW_uECUe",
        "outputId": "ca250d57-dff5-4e56-faac-73178334547d"
      },
      "execution_count": null,
      "outputs": [
        {
          "output_type": "execute_result",
          "data": {
            "text/plain": [
              "4"
            ]
          },
          "metadata": {},
          "execution_count": 176
        }
      ]
    },
    {
      "cell_type": "code",
      "source": [
        "# Prints out only even numbers, by dividing num, with 2, and seeing f it has a\n",
        "#remainder of 0, which indicates an even number\n",
        "#after it is found, the even number is printed\n",
        "for x in List_1:\n",
        "  if x % 2 == 0:\n",
        "    print(x)\n",
        "  else:\n",
        "    print(x, 'This is not an even number')"
      ],
      "metadata": {
        "colab": {
          "base_uri": "https://localhost:8080/"
        },
        "id": "9jVeEpNXEDqI",
        "outputId": "45abcd4d-a957-44f9-d048-e7c84931b861"
      },
      "execution_count": null,
      "outputs": [
        {
          "output_type": "stream",
          "name": "stdout",
          "text": [
            "1 This is not an even number\n",
            "2\n",
            "3 This is not an even number\n",
            "4\n",
            "5 This is not an even number\n",
            "6\n",
            "7 This is not an even number\n",
            "8\n",
            "9 This is not an even number\n",
            "10\n"
          ]
        }
      ]
    },
    {
      "cell_type": "code",
      "source": [
        "#Odd numbers\n",
        "#we are checking if it is odd by seeing if when the number is divided by 2,\n",
        "#it leaves a remainder that is not 0\n",
        "for x in List_1:\n",
        "  if x % 2!=0:\n",
        "    print(x)\n",
        "  else:\n",
        "    print(x, 'This is not an odd number')"
      ],
      "metadata": {
        "colab": {
          "base_uri": "https://localhost:8080/"
        },
        "id": "GlKNBhghEKil",
        "outputId": "25336fa0-53f3-4c8d-aa3e-b9a4672c5218"
      },
      "execution_count": null,
      "outputs": [
        {
          "output_type": "stream",
          "name": "stdout",
          "text": [
            "1\n",
            "2 This is not an odd number\n",
            "3\n",
            "4 This is not an odd number\n",
            "5\n",
            "6 This is not an odd number\n",
            "7\n",
            "8 This is not an odd number\n",
            "9\n",
            "10 This is not an odd number\n"
          ]
        }
      ]
    },
    {
      "cell_type": "markdown",
      "source": [
        "##Letters"
      ],
      "metadata": {
        "id": "NV7ffwn5E_Z0"
      }
    },
    {
      "cell_type": "code",
      "source": [
        "for letter in 'This is a string':\n",
        "  print(letter)"
      ],
      "metadata": {
        "colab": {
          "base_uri": "https://localhost:8080/"
        },
        "id": "w42U5xKPGT24",
        "outputId": "e5be96a4-0a24-47b6-bdb8-38d843886803"
      },
      "execution_count": null,
      "outputs": [
        {
          "output_type": "stream",
          "name": "stdout",
          "text": [
            "T\n",
            "h\n",
            "i\n",
            "s\n",
            " \n",
            "i\n",
            "s\n",
            " \n",
            "a\n",
            " \n",
            "s\n",
            "t\n",
            "r\n",
            "i\n",
            "n\n",
            "g\n"
          ]
        }
      ]
    },
    {
      "cell_type": "code",
      "source": [
        "List_2 = [1,2,3,4,5]"
      ],
      "metadata": {
        "id": "sa8aZlgaI6Qa"
      },
      "execution_count": null,
      "outputs": []
    },
    {
      "cell_type": "code",
      "source": [
        "'''\n",
        "Keeps looping\n",
        "Step 1 it is 1\n",
        "Step 2 1 + 2\n",
        "Step 3 1 + 2 + 3\n",
        "Step 4 1 + 2 + 3 + 4\n",
        "Step 5 1 + 2 + 3 + 4 + 5\n",
        "(listSum = 0 means start from 0?)\n",
        "'''\n",
        "listSum = 0\n",
        "\n",
        "for num in l:\n",
        "  listSum = listSum + num\n",
        "\n",
        "print(listSum)"
      ],
      "metadata": {
        "colab": {
          "base_uri": "https://localhost:8080/"
        },
        "id": "SI2_a5GIGYKE",
        "outputId": "382e3a4f-c154-41ef-d25f-588f04b3e3f5"
      },
      "execution_count": null,
      "outputs": [
        {
          "output_type": "stream",
          "name": "stdout",
          "text": [
            "55\n"
          ]
        }
      ]
    },
    {
      "cell_type": "code",
      "source": [
        "dy = {'k1' : 1, 'k2': 2, 'k3': 3, 'k4': 4}"
      ],
      "metadata": {
        "id": "LpmhAcn5Ggl4"
      },
      "execution_count": null,
      "outputs": []
    },
    {
      "cell_type": "code",
      "source": [
        "for item in dy:\n",
        "  print(item)"
      ],
      "metadata": {
        "colab": {
          "base_uri": "https://localhost:8080/"
        },
        "id": "MCzXUP-_G8um",
        "outputId": "08aae546-683a-49d2-d044-5d707f11ce15"
      },
      "execution_count": null,
      "outputs": [
        {
          "output_type": "stream",
          "name": "stdout",
          "text": [
            "k1\n",
            "k2\n",
            "k3\n",
            "k4\n"
          ]
        }
      ]
    },
    {
      "cell_type": "code",
      "source": [
        "#Is the key (k1) and the value (1)\n",
        "for a,b in dy.items():\n",
        "  print(a)\n",
        "  print(b)"
      ],
      "metadata": {
        "colab": {
          "base_uri": "https://localhost:8080/"
        },
        "id": "B4zeLhgCHEih",
        "outputId": "e8aed187-7b5c-4e05-bb32-dce1148b6892"
      },
      "execution_count": null,
      "outputs": [
        {
          "output_type": "stream",
          "name": "stdout",
          "text": [
            "k1\n",
            "1\n",
            "k2\n",
            "2\n",
            "k3\n",
            "3\n",
            "k4\n",
            "4\n"
          ]
        }
      ]
    },
    {
      "cell_type": "code",
      "source": [
        ""
      ],
      "metadata": {
        "id": "clqi9YI6OT9s"
      },
      "execution_count": null,
      "outputs": []
    }
  ]
}