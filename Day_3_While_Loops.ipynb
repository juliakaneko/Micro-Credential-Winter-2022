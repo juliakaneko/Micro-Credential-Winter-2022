{
  "nbformat": 4,
  "nbformat_minor": 0,
  "metadata": {
    "colab": {
      "name": "Day-3 While Loops.ipynb",
      "provenance": [],
      "collapsed_sections": [],
      "authorship_tag": "ABX9TyNvuoD6METAAiLzpqDuq89d",
      "include_colab_link": true
    },
    "kernelspec": {
      "name": "python3",
      "display_name": "Python 3"
    },
    "language_info": {
      "name": "python"
    }
  },
  "cells": [
    {
      "cell_type": "markdown",
      "metadata": {
        "id": "view-in-github",
        "colab_type": "text"
      },
      "source": [
        "<a href=\"https://colab.research.google.com/github/juliakaneko/Micro-Credential-Winter-2022/blob/main/Day_3_While_Loops.ipynb\" target=\"_parent\"><img src=\"https://colab.research.google.com/assets/colab-badge.svg\" alt=\"Open In Colab\"/></a>"
      ]
    },
    {
      "cell_type": "markdown",
      "source": [
        "##While Loops"
      ],
      "metadata": {
        "id": "_lghKlHVJvRj"
      }
    },
    {
      "cell_type": "code",
      "source": [
        "patient = {'Name': 'Jack', 'Last Name': 'Sparrow', 'MRN': '001234567', 'DOB': '22231845'}"
      ],
      "metadata": {
        "id": "glPzmvNQJy18"
      },
      "execution_count": null,
      "outputs": []
    },
    {
      "cell_type": "code",
      "source": [
        "# x symbolizes the key, y symbolizes the value\n",
        "for key,value in patient.items():\n",
        "  print('\\n key: ' + key)\n",
        "  print('\\n value: ' + value)"
      ],
      "metadata": {
        "colab": {
          "base_uri": "https://localhost:8080/"
        },
        "id": "a64_bZnqJ3gk",
        "outputId": "087fbfc9-5afc-49eb-ec07-e6f7ae5f1dcc"
      },
      "execution_count": null,
      "outputs": [
        {
          "output_type": "stream",
          "name": "stdout",
          "text": [
            "\n",
            " key: Name\n",
            "\n",
            " value: Jack\n",
            "\n",
            " key: Last Name\n",
            "\n",
            " value: Sparrow\n",
            "\n",
            " key: MRN\n",
            "\n",
            " value: 001234567\n",
            "\n",
            " key: DOB\n",
            "\n",
            " value: 22231845\n"
          ]
        }
      ]
    },
    {
      "cell_type": "code",
      "source": [
        "for keys in patient.keys():\n",
        "  print(keys)"
      ],
      "metadata": {
        "colab": {
          "base_uri": "https://localhost:8080/"
        },
        "id": "6FEA-jVQJ4-3",
        "outputId": "a7e8c771-90f4-4a2a-f26c-ebc71fe1e5b5"
      },
      "execution_count": null,
      "outputs": [
        {
          "output_type": "stream",
          "name": "stdout",
          "text": [
            "Name\n",
            "Last Name\n",
            "MRN\n",
            "DOB\n"
          ]
        }
      ]
    },
    {
      "cell_type": "code",
      "source": [
        "for values in patient.values():\n",
        "  print(values)"
      ],
      "metadata": {
        "colab": {
          "base_uri": "https://localhost:8080/"
        },
        "id": "IyeuCoO5KSrF",
        "outputId": "52f713ef-184b-4ede-e4b1-a5a46dd18ec7"
      },
      "execution_count": null,
      "outputs": [
        {
          "output_type": "stream",
          "name": "stdout",
          "text": [
            "Jack\n",
            "Sparrow\n",
            "001234567\n",
            "22231845\n"
          ]
        }
      ]
    },
    {
      "cell_type": "code",
      "source": [
        "#creating a dictionary with friends as key, and their age as the value\n",
        "friends_ages = {\n",
        "    'nick': '30',\n",
        "    'amanda': '34',\n",
        "    'john': '36',\n",
        "    'haley': '26'\n",
        "}"
      ],
      "metadata": {
        "id": "Y-ECwnKMKWAv"
      },
      "execution_count": null,
      "outputs": []
    },
    {
      "cell_type": "code",
      "source": [
        "#First Option\n",
        "fav_friends = ['nick', 'amanda']\n",
        "for name in friends_ages.keys():\n",
        "  print(name.title())\n",
        "  if name in fav_friends:\n",
        "    print(\"Hi \" + name.title() + \", I see you're \" + friends_ages[name])"
      ],
      "metadata": {
        "colab": {
          "base_uri": "https://localhost:8080/"
        },
        "id": "XEOJ6EA8Klh9",
        "outputId": "5fa0feb7-facf-43c3-bff1-5a1b42372ec7"
      },
      "execution_count": null,
      "outputs": [
        {
          "output_type": "stream",
          "name": "stdout",
          "text": [
            "Nick\n",
            "Hi Nick, I see you're 30\n",
            "Amanda\n",
            "Hi Amanda, I see you're 34\n",
            "John\n",
            "Haley\n"
          ]
        }
      ]
    },
    {
      "cell_type": "code",
      "source": [
        "#Second Option\n",
        "fav_friends = ['nick', 'amanda']\n",
        "for name in friends_ages.keys():\n",
        "  print(name.title())\n",
        "  if name in fav_friends:\n",
        "    print(f\"Hi {name.title()}, I see you're {friends_ages[name]}\")"
      ],
      "metadata": {
        "colab": {
          "base_uri": "https://localhost:8080/"
        },
        "id": "sRUju4lEK70J",
        "outputId": "17e3adee-609e-4968-b636-4e3e49949255"
      },
      "execution_count": null,
      "outputs": [
        {
          "output_type": "stream",
          "name": "stdout",
          "text": [
            "Nick\n",
            "Hi Nick, I see you're 30\n",
            "Amanda\n",
            "Hi Amanda, I see you're 34\n",
            "John\n",
            "Haley\n"
          ]
        }
      ]
    },
    {
      "cell_type": "code",
      "source": [
        "#For Loop - Runs then Checks\n",
        "#While Loop - Checks then Runs\n",
        "number = 1\n",
        "# Is the number less or equal to 5\n",
        "while number <= 5:\n",
        "  print(number)\n",
        "# If it is add it to the list by increasing by +1\n",
        "  number += 1"
      ],
      "metadata": {
        "id": "MaWqmtF1MXUF",
        "colab": {
          "base_uri": "https://localhost:8080/"
        },
        "outputId": "03783617-39d6-4874-8bf6-46900e34277a"
      },
      "execution_count": null,
      "outputs": [
        {
          "output_type": "stream",
          "name": "stdout",
          "text": [
            "1\n",
            "2\n",
            "3\n",
            "4\n",
            "5\n"
          ]
        }
      ]
    },
    {
      "cell_type": "code",
      "source": [
        "name = input('What is your name: ')"
      ],
      "metadata": {
        "colab": {
          "base_uri": "https://localhost:8080/"
        },
        "id": "DLO0clbXTe8Y",
        "outputId": "c97c7e73-e7f4-4988-b9b4-f5e6413c65dd"
      },
      "execution_count": null,
      "outputs": [
        {
          "name": "stdout",
          "output_type": "stream",
          "text": [
            "What is your name: Kenobi\n"
          ]
        }
      ]
    },
    {
      "cell_type": "code",
      "source": [
        "name"
      ],
      "metadata": {
        "colab": {
          "base_uri": "https://localhost:8080/",
          "height": 35
        },
        "id": "ZuwqJC9EU69V",
        "outputId": "a579c08c-6cdf-457c-cd54-8017bf3a24f9"
      },
      "execution_count": null,
      "outputs": [
        {
          "output_type": "execute_result",
          "data": {
            "application/vnd.google.colaboratory.intrinsic+json": {
              "type": "string"
            },
            "text/plain": [
              "'Kenobi'"
            ]
          },
          "metadata": {},
          "execution_count": 32
        }
      ]
    },
    {
      "cell_type": "code",
      "source": [
        "age = int(input('What is your age: '))"
      ],
      "metadata": {
        "colab": {
          "base_uri": "https://localhost:8080/"
        },
        "id": "dMjGPsGXVHBY",
        "outputId": "09996f21-c958-46fb-dbf8-4f3173da44db"
      },
      "execution_count": null,
      "outputs": [
        {
          "name": "stdout",
          "output_type": "stream",
          "text": [
            "What is your age: 20\n"
          ]
        }
      ]
    },
    {
      "cell_type": "code",
      "source": [
        "age"
      ],
      "metadata": {
        "colab": {
          "base_uri": "https://localhost:8080/"
        },
        "id": "Tk4N4WMLVl8n",
        "outputId": "4fa21cee-29f1-4417-b55f-930712af0c0a"
      },
      "execution_count": null,
      "outputs": [
        {
          "output_type": "execute_result",
          "data": {
            "text/plain": [
              "20"
            ]
          },
          "metadata": {},
          "execution_count": 42
        }
      ]
    },
    {
      "cell_type": "code",
      "source": [
        "prompt = 'Input mesage... I will repeat until you type quit...'\n",
        "message = ''\n",
        "# != means not equal to\n",
        "while message != 'quit':\n",
        "  message = input(prompt)\n",
        "  print(message)"
      ],
      "metadata": {
        "colab": {
          "base_uri": "https://localhost:8080/"
        },
        "id": "2qcWzY3HVtnF",
        "outputId": "21eb7479-0280-461e-aef2-4f607e266d61"
      },
      "execution_count": null,
      "outputs": [
        {
          "output_type": "stream",
          "name": "stdout",
          "text": [
            "Input mesage... I will repeat until you type quit...no\n",
            "no\n",
            "Input mesage... I will repeat until you type quit...no\n",
            "no\n",
            "Input mesage... I will repeat until you type quit...no\n",
            "no\n",
            "Input mesage... I will repeat until you type quit...yes\n",
            "yes\n",
            "Input mesage... I will repeat until you type quit...quit\n",
            "quit\n"
          ]
        }
      ]
    },
    {
      "cell_type": "code",
      "source": [
        "qprompt = 'Input mesage... I will repeat until you type quit...'\n",
        "message = ''\n",
        "\n",
        "\n",
        "active = True\n",
        "while active:\n",
        "  message = input(prompt)\n",
        "  if message == 'quit':\n",
        "    active = False\n",
        "  else:\n",
        "    print(message)"
      ],
      "metadata": {
        "colab": {
          "base_uri": "https://localhost:8080/"
        },
        "id": "uAznxdHhWAVN",
        "outputId": "94a711cb-0f07-4619-e3ad-7da2bd5b893e"
      },
      "execution_count": null,
      "outputs": [
        {
          "name": "stdout",
          "output_type": "stream",
          "text": [
            "Input mesage... I will repeat until you type quit...no\n",
            "no\n",
            "Input mesage... I will repeat until you type quit...no\n",
            "no\n",
            "Input mesage... I will repeat until you type quit...yes\n",
            "yes\n",
            "Input mesage... I will repeat until you type quit...quit\n"
          ]
        }
      ]
    },
    {
      "cell_type": "code",
      "source": [
        ""
      ],
      "metadata": {
        "id": "9JCFROcLXLGD"
      },
      "execution_count": null,
      "outputs": []
    }
  ]
}