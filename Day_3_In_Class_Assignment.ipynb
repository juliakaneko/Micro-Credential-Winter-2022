{
  "nbformat": 4,
  "nbformat_minor": 0,
  "metadata": {
    "colab": {
      "name": "Day-3 In Class Assignment.ipynb",
      "provenance": [],
      "collapsed_sections": [],
      "authorship_tag": "ABX9TyM+o1t1hlACbOPlUU2pwooI",
      "include_colab_link": true
    },
    "kernelspec": {
      "name": "python3",
      "display_name": "Python 3"
    },
    "language_info": {
      "name": "python"
    }
  },
  "cells": [
    {
      "cell_type": "markdown",
      "metadata": {
        "id": "view-in-github",
        "colab_type": "text"
      },
      "source": [
        "<a href=\"https://colab.research.google.com/github/juliakaneko/Micro-Credential-Winter-2022/blob/main/Day_3_In_Class_Assignment.ipynb\" target=\"_parent\"><img src=\"https://colab.research.google.com/assets/colab-badge.svg\" alt=\"Open In Colab\"/></a>"
      ]
    },
    {
      "cell_type": "markdown",
      "source": [
        "#Looping"
      ],
      "metadata": {
        "id": "rh_nRcJFYICG"
      }
    },
    {
      "cell_type": "code",
      "source": [
        "# Create a list that holds 5 data variables.\n",
        "Fruits= ['apples', 'bananas', 'mangoes', 'cherries', 'pears']"
      ],
      "metadata": {
        "id": "kXbe0YplaFcQ"
      },
      "execution_count": 159,
      "outputs": []
    },
    {
      "cell_type": "code",
      "source": [
        "# Print out those variables by using a for loop.\n",
        "for x in Fruits:\n",
        "  print(x)"
      ],
      "metadata": {
        "colab": {
          "base_uri": "https://localhost:8080/"
        },
        "id": "CyOBe_JgaFaW",
        "outputId": "3ff85b2f-3738-4ac7-cfa8-b2fac9f0a84b"
      },
      "execution_count": 160,
      "outputs": [
        {
          "output_type": "stream",
          "name": "stdout",
          "text": [
            "apples\n",
            "bananas\n",
            "mangoes\n",
            "cherries\n",
            "pears\n"
          ]
        }
      ]
    },
    {
      "cell_type": "code",
      "source": [
        "# Modify your for loop to add a message to your for loop.\n",
        "for x in Fruits:\n",
        "  print(x.title()+' are one of my favorite fruits.')"
      ],
      "metadata": {
        "colab": {
          "base_uri": "https://localhost:8080/"
        },
        "id": "7caTPNLMaFYX",
        "outputId": "549d60f0-9a14-44e3-e7ca-b7b5319eebbc"
      },
      "execution_count": 163,
      "outputs": [
        {
          "output_type": "stream",
          "name": "stdout",
          "text": [
            "Apples are one of my favorite fruits.\n",
            "Bananas are one of my favorite fruits.\n",
            "Mangoes are one of my favorite fruits.\n",
            "Cherries are one of my favorite fruits.\n",
            "Pears are one of my favorite fruits.\n"
          ]
        }
      ]
    },
    {
      "cell_type": "code",
      "source": [
        "# Use a for loop to print even numbers from 1-20.\n",
        "list(range(1,21))"
      ],
      "metadata": {
        "colab": {
          "base_uri": "https://localhost:8080/"
        },
        "id": "JME7ba00aFWg",
        "outputId": "887fe541-f412-47d9-f630-0bbdb6774fc6"
      },
      "execution_count": 164,
      "outputs": [
        {
          "output_type": "execute_result",
          "data": {
            "text/plain": [
              "[1, 2, 3, 4, 5, 6, 7, 8, 9, 10, 11, 12, 13, 14, 15, 16, 17, 18, 19, 20]"
            ]
          },
          "metadata": {},
          "execution_count": 164
        }
      ]
    },
    {
      "cell_type": "code",
      "source": [
        "List_1=[1, 2, 3, 4, 5, 6, 7, 8, 9, 10, 11, 12, 13, 14, 15, 16, 17, 18, 19, 20]\n"
      ],
      "metadata": {
        "id": "hodPahC3aFU3"
      },
      "execution_count": 165,
      "outputs": []
    },
    {
      "cell_type": "code",
      "source": [
        "for x in List_1:\n",
        "  if x % 2 == 0:\n",
        "    print(x)"
      ],
      "metadata": {
        "colab": {
          "base_uri": "https://localhost:8080/"
        },
        "id": "PwvkYn94aFTE",
        "outputId": "908de06e-4a33-4430-dc32-95d9222b1a93"
      },
      "execution_count": 166,
      "outputs": [
        {
          "output_type": "stream",
          "name": "stdout",
          "text": [
            "2\n",
            "4\n",
            "6\n",
            "8\n",
            "10\n",
            "12\n",
            "14\n",
            "16\n",
            "18\n",
            "20\n"
          ]
        }
      ]
    },
    {
      "cell_type": "code",
      "source": [
        "# Sort your list in alphabetic order.\n",
        "print(sorted(Fruits))"
      ],
      "metadata": {
        "colab": {
          "base_uri": "https://localhost:8080/"
        },
        "id": "NuIyUWQLaFQ3",
        "outputId": "bad3ae92-33c5-4935-bc6a-7da3fa6a70a8"
      },
      "execution_count": 167,
      "outputs": [
        {
          "output_type": "stream",
          "name": "stdout",
          "text": [
            "['apples', 'bananas', 'cherries', 'mangoes', 'pears']\n"
          ]
        }
      ]
    },
    {
      "cell_type": "code",
      "source": [
        "# Print out the first three elements of your list.\n",
        "print(Fruits[0:3])"
      ],
      "metadata": {
        "colab": {
          "base_uri": "https://localhost:8080/"
        },
        "id": "YhtpzX4laFOq",
        "outputId": "251a4c8f-9c61-45e0-9bc0-49a4222a0543"
      },
      "execution_count": 168,
      "outputs": [
        {
          "output_type": "stream",
          "name": "stdout",
          "text": [
            "['apples', 'bananas', 'mangoes']\n"
          ]
        }
      ]
    },
    {
      "cell_type": "code",
      "source": [
        "#Create a loop to print the last 2 elements of your list.\n",
        "print(Fruits[-1])\n",
        "print(Fruits[-2])\n"
      ],
      "metadata": {
        "colab": {
          "base_uri": "https://localhost:8080/"
        },
        "id": "D_zXRzvSc_jD",
        "outputId": "1aa119e8-b816-422a-f59e-8d9976166925"
      },
      "execution_count": 169,
      "outputs": [
        {
          "output_type": "stream",
          "name": "stdout",
          "text": [
            "pears\n",
            "cherries\n"
          ]
        }
      ]
    },
    {
      "cell_type": "markdown",
      "source": [
        "#Python Dictionaries"
      ],
      "metadata": {
        "id": "sYu18dYZecjY"
      }
    },
    {
      "cell_type": "code",
      "source": [
        "# Create a simple dictionary that stores 2 variables, for example: first and last name.\n",
        "Name = {'first_name': 'Emma', 'last_name':'Watson'}"
      ],
      "metadata": {
        "id": "EkEtpACeee_H"
      },
      "execution_count": 170,
      "outputs": []
    },
    {
      "cell_type": "code",
      "source": [
        "# Print out those variables stored in your previous dictionary.\n",
        "print(Name['first_name'])\n",
        "print(Name['last_name'])"
      ],
      "metadata": {
        "colab": {
          "base_uri": "https://localhost:8080/"
        },
        "id": "7SGwKFcXexYY",
        "outputId": "3e67bf22-b6e1-4d24-a222-c35dd8ed399b"
      },
      "execution_count": 171,
      "outputs": [
        {
          "output_type": "stream",
          "name": "stdout",
          "text": [
            "Emma\n",
            "Watson\n"
          ]
        }
      ]
    },
    {
      "cell_type": "code",
      "source": [
        "# Add a message to those variables on printing: for example: “Hello, firstname lastname!”\n",
        "Person = Name['first_name'] + ' ' + Name['last_name']\n",
        "print('Hello, ' + Person)\n"
      ],
      "metadata": {
        "colab": {
          "base_uri": "https://localhost:8080/"
        },
        "id": "_s_1OCoLezxJ",
        "outputId": "99354a75-d9a0-4f18-ff52-d3c3bc547dcd"
      },
      "execution_count": 172,
      "outputs": [
        {
          "output_type": "stream",
          "name": "stdout",
          "text": [
            "Hello, Emma Watson\n"
          ]
        }
      ]
    },
    {
      "cell_type": "code",
      "source": [
        "#Create a dictionary that holds 2 key: value pairs:\n",
        "Siblings= {'John':'brother','Kate':'sister'}"
      ],
      "metadata": {
        "id": "3-akF04tfBeq"
      },
      "execution_count": 173,
      "outputs": []
    },
    {
      "cell_type": "code",
      "source": [
        "#a. Look through your dictionary and print each pair,\n",
        "print(Siblings.items())"
      ],
      "metadata": {
        "colab": {
          "base_uri": "https://localhost:8080/"
        },
        "id": "kVp28bPipkEQ",
        "outputId": "55cdfc95-a323-4aa1-942e-e0023fe0e5e3"
      },
      "execution_count": 174,
      "outputs": [
        {
          "output_type": "stream",
          "name": "stdout",
          "text": [
            "dict_items([('John', 'brother'), ('Kate', 'sister')])\n"
          ]
        }
      ]
    },
    {
      "cell_type": "code",
      "source": [
        "#Create a nested dictionary containing three dictionaries – these dictionaries could be anything (favorite pets, travel locations, etc.)\n",
        "Tourist_Places = {'Place':{'United States':{'City':'New York'}}}"
      ],
      "metadata": {
        "id": "WePUeqmPiXWI"
      },
      "execution_count": 175,
      "outputs": []
    },
    {
      "cell_type": "code",
      "source": [
        "#a. Loop through the dictionaries and print a message for each.\n",
        "Tourist_Places = {'Place':{'United States':{'City':'New York'}}}\n",
        "for x in Tourist_Places.items:\n",
        "  print('My favorite place to go is' + x)"
      ],
      "metadata": {
        "colab": {
          "base_uri": "https://localhost:8080/",
          "height": 218
        },
        "id": "1hEIE1_Djubv",
        "outputId": "65d6ce91-811f-4b3b-f87b-5d3f873716d3"
      },
      "execution_count": 178,
      "outputs": [
        {
          "output_type": "error",
          "ename": "TypeError",
          "evalue": "ignored",
          "traceback": [
            "\u001b[0;31m---------------------------------------------------------------------------\u001b[0m",
            "\u001b[0;31mTypeError\u001b[0m                                 Traceback (most recent call last)",
            "\u001b[0;32m<ipython-input-178-8f842ce9eee2>\u001b[0m in \u001b[0;36m<module>\u001b[0;34m()\u001b[0m\n\u001b[1;32m      1\u001b[0m \u001b[0;31m#a. Loop through the dictionaries and print a message for each.\u001b[0m\u001b[0;34m\u001b[0m\u001b[0;34m\u001b[0m\u001b[0;34m\u001b[0m\u001b[0m\n\u001b[1;32m      2\u001b[0m \u001b[0mTourist_Places\u001b[0m \u001b[0;34m=\u001b[0m \u001b[0;34m{\u001b[0m\u001b[0;34m'Place'\u001b[0m\u001b[0;34m:\u001b[0m\u001b[0;34m{\u001b[0m\u001b[0;34m'United States'\u001b[0m\u001b[0;34m:\u001b[0m\u001b[0;34m{\u001b[0m\u001b[0;34m'City'\u001b[0m\u001b[0;34m:\u001b[0m\u001b[0;34m'New York'\u001b[0m\u001b[0;34m}\u001b[0m\u001b[0;34m}\u001b[0m\u001b[0;34m}\u001b[0m\u001b[0;34m\u001b[0m\u001b[0;34m\u001b[0m\u001b[0m\n\u001b[0;32m----> 3\u001b[0;31m \u001b[0;32mfor\u001b[0m \u001b[0mx\u001b[0m \u001b[0;32min\u001b[0m \u001b[0mTourist_Places\u001b[0m\u001b[0;34m.\u001b[0m\u001b[0mitems\u001b[0m\u001b[0;34m:\u001b[0m\u001b[0;34m\u001b[0m\u001b[0;34m\u001b[0m\u001b[0m\n\u001b[0m\u001b[1;32m      4\u001b[0m   \u001b[0mprint\u001b[0m\u001b[0;34m(\u001b[0m\u001b[0;34m'My favorite place to go is'\u001b[0m \u001b[0;34m+\u001b[0m \u001b[0mx\u001b[0m\u001b[0;34m)\u001b[0m\u001b[0;34m\u001b[0m\u001b[0;34m\u001b[0m\u001b[0m\n",
            "\u001b[0;31mTypeError\u001b[0m: 'builtin_function_or_method' object is not iterable"
          ]
        }
      ]
    },
    {
      "cell_type": "code",
      "source": [
        ""
      ],
      "metadata": {
        "id": "7Gp39ZWQkgj9"
      },
      "execution_count": null,
      "outputs": []
    }
  ]
}