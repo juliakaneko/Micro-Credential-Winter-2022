{
  "nbformat": 4,
  "nbformat_minor": 0,
  "metadata": {
    "colab": {
      "name": "Day-3 In Class Assignment.ipynb",
      "provenance": [],
      "authorship_tag": "ABX9TyNjUdNGz9EiUGyuo/m/1Sbl",
      "include_colab_link": true
    },
    "kernelspec": {
      "name": "python3",
      "display_name": "Python 3"
    },
    "language_info": {
      "name": "python"
    }
  },
  "cells": [
    {
      "cell_type": "markdown",
      "metadata": {
        "id": "view-in-github",
        "colab_type": "text"
      },
      "source": [
        "<a href=\"https://colab.research.google.com/github/juliakaneko/Micro-Credential-Winter-2022/blob/main/Day_3_In_Class_Assignment.ipynb\" target=\"_parent\"><img src=\"https://colab.research.google.com/assets/colab-badge.svg\" alt=\"Open In Colab\"/></a>"
      ]
    },
    {
      "cell_type": "markdown",
      "source": [
        "#Looping"
      ],
      "metadata": {
        "id": "rh_nRcJFYICG"
      }
    },
    {
      "cell_type": "code",
      "source": [
        "# Create a list that holds 5 data variables.\n",
        "Fruits= ['apple', 'banana', 'mango', 'cherry', 'pear']"
      ],
      "metadata": {
        "id": "kXbe0YplaFcQ"
      },
      "execution_count": 34,
      "outputs": []
    },
    {
      "cell_type": "code",
      "source": [
        "# Print out those variables by using a for loop.\n",
        "for x in Fruits:\n",
        "  print(x)"
      ],
      "metadata": {
        "colab": {
          "base_uri": "https://localhost:8080/"
        },
        "id": "CyOBe_JgaFaW",
        "outputId": "dda000ac-99a9-4464-bdab-6b8334882564"
      },
      "execution_count": 35,
      "outputs": [
        {
          "output_type": "stream",
          "name": "stdout",
          "text": [
            "apple\n",
            "banana\n",
            "mango\n",
            "cherry\n",
            "pear\n"
          ]
        }
      ]
    },
    {
      "cell_type": "code",
      "source": [
        "# Modify your for loop to add a message to your for loop.\n",
        "Fruits= ['apple', 'banana', 'mango', 'cherry', 'pear']\n",
        "for x in Fruits:\n",
        "  print(x.title()+' is one of my favorite fruits')"
      ],
      "metadata": {
        "colab": {
          "base_uri": "https://localhost:8080/"
        },
        "id": "7caTPNLMaFYX",
        "outputId": "99e70b2f-5db3-41b4-855f-faabf2e76d2a"
      },
      "execution_count": 36,
      "outputs": [
        {
          "output_type": "stream",
          "name": "stdout",
          "text": [
            "Apple is one of my favorite fruits\n",
            "Banana is one of my favorite fruits\n",
            "Mango is one of my favorite fruits\n",
            "Cherry is one of my favorite fruits\n",
            "Pear is one of my favorite fruits\n"
          ]
        }
      ]
    },
    {
      "cell_type": "code",
      "source": [
        "# Use a for loop to print even numbers from 1-20.\n",
        "list(range(1,21))"
      ],
      "metadata": {
        "colab": {
          "base_uri": "https://localhost:8080/"
        },
        "id": "JME7ba00aFWg",
        "outputId": "763daa3c-0200-45f6-961a-f8c4c00d01d0"
      },
      "execution_count": 37,
      "outputs": [
        {
          "output_type": "execute_result",
          "data": {
            "text/plain": [
              "[1, 2, 3, 4, 5, 6, 7, 8, 9, 10, 11, 12, 13, 14, 15, 16, 17, 18, 19, 20]"
            ]
          },
          "metadata": {},
          "execution_count": 37
        }
      ]
    },
    {
      "cell_type": "code",
      "source": [
        "List_1=[1, 2, 3, 4, 5, 6, 7, 8, 9, 10, 11, 12, 13, 14, 15, 16, 17, 18, 19, 20]\n"
      ],
      "metadata": {
        "id": "hodPahC3aFU3"
      },
      "execution_count": 19,
      "outputs": []
    },
    {
      "cell_type": "code",
      "source": [
        "for x in List_1:\n",
        "  if x % 2 == 0:\n",
        "    print(x)"
      ],
      "metadata": {
        "colab": {
          "base_uri": "https://localhost:8080/"
        },
        "id": "PwvkYn94aFTE",
        "outputId": "3a6318e8-b334-4095-86ac-f316e78a75b3"
      },
      "execution_count": 20,
      "outputs": [
        {
          "output_type": "stream",
          "name": "stdout",
          "text": [
            "2\n",
            "4\n",
            "6\n",
            "8\n",
            "10\n",
            "12\n",
            "14\n",
            "16\n",
            "18\n",
            "20\n"
          ]
        }
      ]
    },
    {
      "cell_type": "code",
      "source": [
        "# Sort your list in alphabetic order.\n",
        "print(sorted(Fruits))"
      ],
      "metadata": {
        "colab": {
          "base_uri": "https://localhost:8080/"
        },
        "id": "NuIyUWQLaFQ3",
        "outputId": "d83ca778-fd10-429b-b247-cb6d18612941"
      },
      "execution_count": 38,
      "outputs": [
        {
          "output_type": "stream",
          "name": "stdout",
          "text": [
            "['apple', 'banana', 'cherry', 'mango', 'pear']\n"
          ]
        }
      ]
    },
    {
      "cell_type": "code",
      "source": [
        "# Print out the first three elements of your list.\n",
        "print(Fruits[0:3])"
      ],
      "metadata": {
        "colab": {
          "base_uri": "https://localhost:8080/"
        },
        "id": "YhtpzX4laFOq",
        "outputId": "fc345f11-01c9-40ce-bb8f-a9e50cd193ea"
      },
      "execution_count": 39,
      "outputs": [
        {
          "output_type": "stream",
          "name": "stdout",
          "text": [
            "['apple', 'banana', 'mango']\n"
          ]
        }
      ]
    },
    {
      "cell_type": "code",
      "source": [
        "#Create a loop to print the last 2 elements of your list.\n",
        "print(Fruits[-1])\n",
        "print(Fruits[-2])\n"
      ],
      "metadata": {
        "colab": {
          "base_uri": "https://localhost:8080/"
        },
        "id": "D_zXRzvSc_jD",
        "outputId": "7b16c731-4444-4d83-9d87-91a937e7d0c2"
      },
      "execution_count": 113,
      "outputs": [
        {
          "output_type": "stream",
          "name": "stdout",
          "text": [
            "pear\n",
            "cherry\n"
          ]
        }
      ]
    },
    {
      "cell_type": "markdown",
      "source": [
        "#Python Dictionaries"
      ],
      "metadata": {
        "id": "sYu18dYZecjY"
      }
    },
    {
      "cell_type": "code",
      "source": [
        "# Create a simple dictionary that stores 2 variables, for example: first and last name.\n",
        "Name = {'first_name': 'Emma', 'last_name':'Watson'}"
      ],
      "metadata": {
        "id": "EkEtpACeee_H"
      },
      "execution_count": 45,
      "outputs": []
    },
    {
      "cell_type": "code",
      "source": [
        "# Print out those variables stored in your previous dictionary.\n",
        "print(Name['first_name'])\n",
        "print(Name['last_name'])"
      ],
      "metadata": {
        "colab": {
          "base_uri": "https://localhost:8080/"
        },
        "id": "7SGwKFcXexYY",
        "outputId": "25697ba2-4607-4b0b-cd6e-909100a61aa5"
      },
      "execution_count": 46,
      "outputs": [
        {
          "output_type": "stream",
          "name": "stdout",
          "text": [
            "Emma\n",
            "Watson\n"
          ]
        }
      ]
    },
    {
      "cell_type": "code",
      "source": [
        "# Add a message to those variables on printing: for example: “Hello, firstname lastname!”\n",
        "print('Hello, ' + Name['first_name'])"
      ],
      "metadata": {
        "colab": {
          "base_uri": "https://localhost:8080/",
          "height": 201
        },
        "id": "_s_1OCoLezxJ",
        "outputId": "98b8e0dd-a7ca-440c-8835-149bbe2625ca"
      },
      "execution_count": 120,
      "outputs": [
        {
          "output_type": "error",
          "ename": "TypeError",
          "evalue": "ignored",
          "traceback": [
            "\u001b[0;31m---------------------------------------------------------------------------\u001b[0m",
            "\u001b[0;31mTypeError\u001b[0m                                 Traceback (most recent call last)",
            "\u001b[0;32m<ipython-input-120-df9201553b66>\u001b[0m in \u001b[0;36m<module>\u001b[0;34m()\u001b[0m\n\u001b[1;32m      1\u001b[0m \u001b[0;31m# Add a message to those variables on printing: for example: “Hello, firstname lastname!”\u001b[0m\u001b[0;34m\u001b[0m\u001b[0;34m\u001b[0m\u001b[0;34m\u001b[0m\u001b[0m\n\u001b[0;32m----> 2\u001b[0;31m \u001b[0mprint\u001b[0m\u001b[0;34m(\u001b[0m\u001b[0;34m'Hello, '\u001b[0m \u001b[0;34m+\u001b[0m \u001b[0mName\u001b[0m\u001b[0;34m[\u001b[0m\u001b[0;34m'first_name'\u001b[0m\u001b[0;34m]\u001b[0m\u001b[0;34m)\u001b[0m\u001b[0;34m\u001b[0m\u001b[0;34m\u001b[0m\u001b[0m\n\u001b[0m",
            "\u001b[0;31mTypeError\u001b[0m: string indices must be integers"
          ]
        }
      ]
    },
    {
      "cell_type": "code",
      "source": [
        "#Create a dictionary that holds 2 key: value pairs:\n",
        "Siblings= {'John':'brother','Kate':'sister'}"
      ],
      "metadata": {
        "id": "3-akF04tfBeq"
      },
      "execution_count": 122,
      "outputs": []
    },
    {
      "cell_type": "code",
      "source": [
        "#a. Look through your dictionary and print each pair,\n",
        "for people in Siblings:\n",
        "  print(Siblings.keys())\n",
        "  print(Siblings.values())"
      ],
      "metadata": {
        "colab": {
          "base_uri": "https://localhost:8080/"
        },
        "id": "kVp28bPipkEQ",
        "outputId": "1dc3a117-1384-4a19-c07c-ca2b1fa4756c"
      },
      "execution_count": 125,
      "outputs": [
        {
          "output_type": "stream",
          "name": "stdout",
          "text": [
            "dict_keys(['John', 'Kate'])\n",
            "dict_values(['brother', 'sister'])\n",
            "dict_keys(['John', 'Kate'])\n",
            "dict_values(['brother', 'sister'])\n"
          ]
        }
      ]
    },
    {
      "cell_type": "code",
      "source": [
        "#Create a nested dictionary containing three dictionaries – these dictionaries could be anything (favorite pets, travel locations, etc.)\n",
        "d = {'Location':{'United States':{'New York':'Manhattan'}}}"
      ],
      "metadata": {
        "id": "WePUeqmPiXWI"
      },
      "execution_count": 82,
      "outputs": []
    },
    {
      "cell_type": "code",
      "source": [
        "#a. Loop through the dictionaries and print a message for each.\n",
        "for place in d:\n",
        "  print(place.title() + ' is a place I want to visit')"
      ],
      "metadata": {
        "colab": {
          "base_uri": "https://localhost:8080/"
        },
        "id": "1hEIE1_Djubv",
        "outputId": "85a9ee4f-f2c8-4809-c88f-b83635cd932d"
      },
      "execution_count": 85,
      "outputs": [
        {
          "output_type": "stream",
          "name": "stdout",
          "text": [
            "Location is a place I want to visit\n"
          ]
        }
      ]
    },
    {
      "cell_type": "code",
      "source": [
        ""
      ],
      "metadata": {
        "id": "7Gp39ZWQkgj9"
      },
      "execution_count": null,
      "outputs": []
    }
  ]
}