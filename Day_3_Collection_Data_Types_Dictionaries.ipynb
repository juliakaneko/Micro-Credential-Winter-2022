{
  "nbformat": 4,
  "nbformat_minor": 0,
  "metadata": {
    "colab": {
      "name": "Day-3 Collection Data Types - Dictionaries.ipynb",
      "provenance": [],
      "collapsed_sections": [],
      "authorship_tag": "ABX9TyMwzjwelN7vGwWHPohQb/Nl",
      "include_colab_link": true
    },
    "kernelspec": {
      "name": "python3",
      "display_name": "Python 3"
    },
    "language_info": {
      "name": "python"
    }
  },
  "cells": [
    {
      "cell_type": "markdown",
      "metadata": {
        "id": "view-in-github",
        "colab_type": "text"
      },
      "source": [
        "<a href=\"https://colab.research.google.com/github/juliakaneko/Micro-Credential-Winter-2022/blob/main/Day_3_Collection_Data_Types_Dictionaries.ipynb\" target=\"_parent\"><img src=\"https://colab.research.google.com/assets/colab-badge.svg\" alt=\"Open In Colab\"/></a>"
      ]
    },
    {
      "cell_type": "markdown",
      "source": [
        "#Collection Data Types"
      ],
      "metadata": {
        "id": "FjF4thSjsnxz"
      }
    },
    {
      "cell_type": "markdown",
      "source": [
        "#Dictionaries\n",
        "\n",
        "A collection of data types that holds a key value pair. You can put inside just about anything in a dictionary."
      ],
      "metadata": {
        "id": "7gsDjiIOt1EI"
      }
    },
    {
      "cell_type": "code",
      "source": [
        "#Python dictionaries are wrapped in {}. \n",
        "#With their key-value pairs inside the braces.\n",
        "patient_1 = {'first_name': 'John', 'last_name': 'Kimble'}"
      ],
      "metadata": {
        "id": "kSFpl1NSsoM8"
      },
      "execution_count": 1,
      "outputs": []
    },
    {
      "cell_type": "code",
      "source": [
        "print(patient_1['first_name'])\n",
        "print(patient_1['last_name'])"
      ],
      "metadata": {
        "colab": {
          "base_uri": "https://localhost:8080/"
        },
        "id": "Gs4kTXE3uWIh",
        "outputId": "0b690135-0370-4860-b7f6-d3a5eb2fa816"
      },
      "execution_count": 2,
      "outputs": [
        {
          "output_type": "stream",
          "name": "stdout",
          "text": [
            "John\n",
            "Kimble\n"
          ]
        }
      ]
    },
    {
      "cell_type": "code",
      "source": [
        "patient_name = patient_1['first_name']\n",
        "print(\"hello there, \" + patient_name)"
      ],
      "metadata": {
        "colab": {
          "base_uri": "https://localhost:8080/"
        },
        "id": "5fBGN7hhuaiW",
        "outputId": "f21011c3-968e-41ab-ba9a-5253349412d8"
      },
      "execution_count": 3,
      "outputs": [
        {
          "output_type": "stream",
          "name": "stdout",
          "text": [
            "hello there, John\n"
          ]
        }
      ]
    },
    {
      "cell_type": "code",
      "source": [
        "patient_2 = {}"
      ],
      "metadata": {
        "id": "Z7ddgoQYvCE6"
      },
      "execution_count": 4,
      "outputs": []
    },
    {
      "cell_type": "code",
      "source": [
        "patient_2['first_name'] ='John'"
      ],
      "metadata": {
        "id": "SgmaQmzava7h"
      },
      "execution_count": 5,
      "outputs": []
    },
    {
      "cell_type": "code",
      "source": [
        "patient_2['last_name'] = 'Wick'"
      ],
      "metadata": {
        "id": "-yTZ4F6evrUC"
      },
      "execution_count": 6,
      "outputs": []
    },
    {
      "cell_type": "code",
      "source": [
        "patient_2"
      ],
      "metadata": {
        "colab": {
          "base_uri": "https://localhost:8080/"
        },
        "id": "WBEMk1zLvvd7",
        "outputId": "cd754196-cfb5-406a-e2b1-3a717e56fe74"
      },
      "execution_count": 7,
      "outputs": [
        {
          "output_type": "execute_result",
          "data": {
            "text/plain": [
              "{'first_name': 'John', 'last_name': 'Wick'}"
            ]
          },
          "metadata": {},
          "execution_count": 7
        }
      ]
    },
    {
      "cell_type": "code",
      "source": [
        "#Adding key-value pairs\n",
        "patient_2['MRN'] = '0000000'\n",
        "patient_2['Last_exam'] = 'echo'\n",
        "patient_2['Symptom'] = 'cough'"
      ],
      "metadata": {
        "id": "RqecOOvjv2o9"
      },
      "execution_count": 8,
      "outputs": []
    },
    {
      "cell_type": "code",
      "source": [
        "patient_2['first_name'] = 'Emily'"
      ],
      "metadata": {
        "id": "kLKKwLVqwfjB"
      },
      "execution_count": 9,
      "outputs": []
    },
    {
      "cell_type": "code",
      "source": [
        "patient_2"
      ],
      "metadata": {
        "colab": {
          "base_uri": "https://localhost:8080/"
        },
        "id": "CE6kumNIwocA",
        "outputId": "248a511e-60a1-41e6-a16d-994521d93faf"
      },
      "execution_count": 10,
      "outputs": [
        {
          "output_type": "execute_result",
          "data": {
            "text/plain": [
              "{'Last_exam': 'echo',\n",
              " 'MRN': '0000000',\n",
              " 'Symptom': 'cough',\n",
              " 'first_name': 'Emily',\n",
              " 'last_name': 'Wick'}"
            ]
          },
          "metadata": {},
          "execution_count": 10
        }
      ]
    },
    {
      "cell_type": "code",
      "source": [
        "#Deleting a key_value pair\n",
        "del patient_2['Symptom']"
      ],
      "metadata": {
        "id": "r-4bqQQtwqFO"
      },
      "execution_count": 11,
      "outputs": []
    },
    {
      "cell_type": "code",
      "source": [
        "patient_2"
      ],
      "metadata": {
        "colab": {
          "base_uri": "https://localhost:8080/"
        },
        "id": "y7hYIlqvw2Cq",
        "outputId": "6b93b0c4-7cc6-47d0-f52d-8f88e4666c03"
      },
      "execution_count": 12,
      "outputs": [
        {
          "output_type": "execute_result",
          "data": {
            "text/plain": [
              "{'Last_exam': 'echo',\n",
              " 'MRN': '0000000',\n",
              " 'first_name': 'Emily',\n",
              " 'last_name': 'Wick'}"
            ]
          },
          "metadata": {},
          "execution_count": 12
        }
      ]
    },
    {
      "cell_type": "code",
      "source": [
        "patient_2['Object'] = ['fruits', 5, 3, 'strings']"
      ],
      "metadata": {
        "id": "PvxXrkxMw2qS"
      },
      "execution_count": 13,
      "outputs": []
    },
    {
      "cell_type": "code",
      "source": [
        "patient_2"
      ],
      "metadata": {
        "colab": {
          "base_uri": "https://localhost:8080/"
        },
        "id": "M28Q83TzxW9V",
        "outputId": "d47c857c-826a-47df-8703-7d6f165eea78"
      },
      "execution_count": 14,
      "outputs": [
        {
          "output_type": "execute_result",
          "data": {
            "text/plain": [
              "{'Last_exam': 'echo',\n",
              " 'MRN': '0000000',\n",
              " 'Object': ['fruits', 5, 3, 'strings'],\n",
              " 'first_name': 'Emily',\n",
              " 'last_name': 'Wick'}"
            ]
          },
          "metadata": {},
          "execution_count": 14
        }
      ]
    },
    {
      "cell_type": "code",
      "source": [
        "del patient_2['Object']"
      ],
      "metadata": {
        "id": "B-kTo4wfxfp_"
      },
      "execution_count": 15,
      "outputs": []
    },
    {
      "cell_type": "code",
      "source": [
        "patient_2"
      ],
      "metadata": {
        "colab": {
          "base_uri": "https://localhost:8080/"
        },
        "id": "qrVFBJ8Pxi-m",
        "outputId": "3130aac8-99e6-4489-99b2-c3dc6f9328f2"
      },
      "execution_count": 16,
      "outputs": [
        {
          "output_type": "execute_result",
          "data": {
            "text/plain": [
              "{'Last_exam': 'echo',\n",
              " 'MRN': '0000000',\n",
              " 'first_name': 'Emily',\n",
              " 'last_name': 'Wick'}"
            ]
          },
          "metadata": {},
          "execution_count": 16
        }
      ]
    },
    {
      "cell_type": "code",
      "source": [
        "patient_2['Object'] = ['fruits', 5, 3, 'strings']"
      ],
      "metadata": {
        "id": "m6Kceb4kxm1Y"
      },
      "execution_count": 17,
      "outputs": []
    },
    {
      "cell_type": "code",
      "source": [
        "patient_2['Object']"
      ],
      "metadata": {
        "colab": {
          "base_uri": "https://localhost:8080/"
        },
        "id": "UbTDC0pNxqwC",
        "outputId": "7ccb065e-6ef2-4c04-9b19-265067c701e1"
      },
      "execution_count": 18,
      "outputs": [
        {
          "output_type": "execute_result",
          "data": {
            "text/plain": [
              "['fruits', 5, 3, 'strings']"
            ]
          },
          "metadata": {},
          "execution_count": 18
        }
      ]
    },
    {
      "cell_type": "code",
      "source": [
        "#Chooses the first object in the dictionary\n",
        "patient_2['Object'][0]"
      ],
      "metadata": {
        "colab": {
          "base_uri": "https://localhost:8080/",
          "height": 35
        },
        "id": "7EBsJom2xtPV",
        "outputId": "938eaa68-94d0-4381-b351-7caeff64f711"
      },
      "execution_count": 19,
      "outputs": [
        {
          "output_type": "execute_result",
          "data": {
            "application/vnd.google.colaboratory.intrinsic+json": {
              "type": "string"
            },
            "text/plain": [
              "'fruits'"
            ]
          },
          "metadata": {},
          "execution_count": 19
        }
      ]
    },
    {
      "cell_type": "code",
      "source": [
        "#Pulls out the u in fruits \n",
        "patient_2['Object'][0][2]"
      ],
      "metadata": {
        "colab": {
          "base_uri": "https://localhost:8080/",
          "height": 35
        },
        "id": "m9C7uZgYx0yg",
        "outputId": "38fbc408-7632-464d-b823-b4431a19878b"
      },
      "execution_count": 20,
      "outputs": [
        {
          "output_type": "execute_result",
          "data": {
            "application/vnd.google.colaboratory.intrinsic+json": {
              "type": "string"
            },
            "text/plain": [
              "'u'"
            ]
          },
          "metadata": {},
          "execution_count": 20
        }
      ]
    },
    {
      "cell_type": "code",
      "source": [
        "#First pulls out first object and then next capitalizes it\n",
        "patient_2['Object'][0].upper()"
      ],
      "metadata": {
        "colab": {
          "base_uri": "https://localhost:8080/",
          "height": 35
        },
        "id": "F5Szu3mex5Yq",
        "outputId": "aeb2eeeb-df07-4d8a-995a-07be517f43b5"
      },
      "execution_count": 21,
      "outputs": [
        {
          "output_type": "execute_result",
          "data": {
            "application/vnd.google.colaboratory.intrinsic+json": {
              "type": "string"
            },
            "text/plain": [
              "'FRUITS'"
            ]
          },
          "metadata": {},
          "execution_count": 21
        }
      ]
    },
    {
      "cell_type": "code",
      "source": [
        "patient_3 = {'Name': 'Jack', 'Last Name': 'Sparrow', 'MRN': '001234567', 'DOB' : '22231845'}"
      ],
      "metadata": {
        "id": "ud_xsWMRyG6p"
      },
      "execution_count": 22,
      "outputs": []
    },
    {
      "cell_type": "code",
      "source": [
        "patient_3"
      ],
      "metadata": {
        "colab": {
          "base_uri": "https://localhost:8080/"
        },
        "id": "p3lT4j1hzbAc",
        "outputId": "a7ed4f9c-105b-4c97-838d-4f7105349ef0"
      },
      "execution_count": 23,
      "outputs": [
        {
          "output_type": "execute_result",
          "data": {
            "text/plain": [
              "{'DOB': '22231845', 'Last Name': 'Sparrow', 'MRN': '001234567', 'Name': 'Jack'}"
            ]
          },
          "metadata": {},
          "execution_count": 23
        }
      ]
    },
    {
      "cell_type": "code",
      "source": [
        "# The f accesses inside of the string and pulls out the information\n",
        "print(f'The first name of the patient is {patient_3[\"Name\"]}')\n",
        "print(f'The last name of the patient is {patient_3[\"Last Name\"]}')\n",
        "print(f'The ID of the patient is {patient_3[\"MRN\"]}')\n",
        "print(f'The DOB of the patient is {patient_3[\"DOB\"]}')"
      ],
      "metadata": {
        "colab": {
          "base_uri": "https://localhost:8080/"
        },
        "id": "7e7cVfc7z3At",
        "outputId": "a94207ab-535a-47c0-8014-6f4d06d78ae6"
      },
      "execution_count": 24,
      "outputs": [
        {
          "output_type": "stream",
          "name": "stdout",
          "text": [
            "The first name of the patient is Jack\n",
            "The last name of the patient is Sparrow\n",
            "The ID of the patient is 001234567\n",
            "The DOB of the patient is 22231845\n"
          ]
        }
      ]
    },
    {
      "cell_type": "markdown",
      "source": [
        "#Nesting with Dictionaries"
      ],
      "metadata": {
        "id": "0PPRx5dz0Be2"
      }
    },
    {
      "cell_type": "code",
      "source": [
        "#Dictionary nested inside a dicionary inside a dictionary\n",
        "d_2 = {'key1':{'nestkey':{'subnestkey':'value'}}}"
      ],
      "metadata": {
        "id": "YVeqB6m51pT_"
      },
      "execution_count": 34,
      "outputs": []
    },
    {
      "cell_type": "code",
      "source": [
        "d_2.items()"
      ],
      "metadata": {
        "colab": {
          "base_uri": "https://localhost:8080/"
        },
        "id": "X3-cr4KzwWCx",
        "outputId": "5e195904-3543-4e28-b94b-e842164b33ae"
      },
      "execution_count": 36,
      "outputs": [
        {
          "output_type": "execute_result",
          "data": {
            "text/plain": [
              "dict_items([('key1', {'nestkey': {'subnestkey': 'value'}})])"
            ]
          },
          "metadata": {},
          "execution_count": 36
        }
      ]
    },
    {
      "cell_type": "code",
      "source": [
        "d_2['key1']['nestkey']['subnestkey']"
      ],
      "metadata": {
        "colab": {
          "base_uri": "https://localhost:8080/",
          "height": 35
        },
        "id": "s7uVl5Vdwva1",
        "outputId": "295a5392-361e-4206-e09f-5b884222f1e1"
      },
      "execution_count": 39,
      "outputs": [
        {
          "output_type": "execute_result",
          "data": {
            "application/vnd.google.colaboratory.intrinsic+json": {
              "type": "string"
            },
            "text/plain": [
              "'value'"
            ]
          },
          "metadata": {},
          "execution_count": 39
        }
      ]
    },
    {
      "cell_type": "code",
      "source": [
        "#Acessing the first value\n",
        "for k,v in d_2.items():\n",
        "  print(k)"
      ],
      "metadata": {
        "colab": {
          "base_uri": "https://localhost:8080/"
        },
        "id": "2w9KGOe8xEpE",
        "outputId": "f394205d-8071-4335-8bb1-66f2b39d6f2e"
      },
      "execution_count": 42,
      "outputs": [
        {
          "output_type": "stream",
          "name": "stdout",
          "text": [
            "key1\n"
          ]
        }
      ]
    },
    {
      "cell_type": "code",
      "source": [
        "for k,v in d_2.items():\n",
        "  print(k)\n",
        "  print(v)"
      ],
      "metadata": {
        "colab": {
          "base_uri": "https://localhost:8080/"
        },
        "id": "Lf75utwvxLI9",
        "outputId": "79811647-5469-4eb4-e930-7c23ce8bc586"
      },
      "execution_count": 41,
      "outputs": [
        {
          "output_type": "stream",
          "name": "stdout",
          "text": [
            "key1\n",
            "{'nestkey': {'subnestkey': 'value'}}\n"
          ]
        }
      ]
    },
    {
      "cell_type": "code",
      "source": [
        "#Keep calling the keys\n",
        "d['key1']['nestkey']['subnestkey']"
      ],
      "metadata": {
        "colab": {
          "base_uri": "https://localhost:8080/",
          "height": 35
        },
        "id": "6Tr3r2ui18jv",
        "outputId": "b9e1a28d-a7ce-44d7-921d-38d80f0cb0b0"
      },
      "execution_count": 26,
      "outputs": [
        {
          "output_type": "execute_result",
          "data": {
            "application/vnd.google.colaboratory.intrinsic+json": {
              "type": "string"
            },
            "text/plain": [
              "'value'"
            ]
          },
          "metadata": {},
          "execution_count": 26
        }
      ]
    },
    {
      "cell_type": "code",
      "source": [
        "d['key1']['nestkey']"
      ],
      "metadata": {
        "colab": {
          "base_uri": "https://localhost:8080/"
        },
        "id": "HvV9tJAW3bGy",
        "outputId": "4989b923-495b-4eff-fc55-521c1975da01"
      },
      "execution_count": 27,
      "outputs": [
        {
          "output_type": "execute_result",
          "data": {
            "text/plain": [
              "{'subnestkey': 'value'}"
            ]
          },
          "metadata": {},
          "execution_count": 27
        }
      ]
    },
    {
      "cell_type": "markdown",
      "source": [
        "#Dictionary Methods\n"
      ],
      "metadata": {
        "id": "DOtQXOfC2BeS"
      }
    },
    {
      "cell_type": "code",
      "source": [
        ""
      ],
      "metadata": {
        "id": "9-6X7jk47Ctt"
      },
      "execution_count": 27,
      "outputs": []
    },
    {
      "cell_type": "code",
      "source": [
        "#Create a typical dictionary\n",
        "d= {'key1':1,'key2':2,'key3':3}"
      ],
      "metadata": {
        "id": "Jc0nOnM52NBA"
      },
      "execution_count": 28,
      "outputs": []
    },
    {
      "cell_type": "code",
      "source": [
        "#Method to return a list of all keys\n",
        "d.keys()"
      ],
      "metadata": {
        "colab": {
          "base_uri": "https://localhost:8080/"
        },
        "id": "AFuwBE9B2Zos",
        "outputId": "95a88176-414f-4a7d-8dfd-e0fdd968693f"
      },
      "execution_count": 29,
      "outputs": [
        {
          "output_type": "execute_result",
          "data": {
            "text/plain": [
              "dict_keys(['key1', 'key2', 'key3'])"
            ]
          },
          "metadata": {},
          "execution_count": 29
        }
      ]
    },
    {
      "cell_type": "code",
      "source": [
        "#Method to grab all values\n",
        "d.values()"
      ],
      "metadata": {
        "colab": {
          "base_uri": "https://localhost:8080/"
        },
        "id": "PK0gXCCz3DAx",
        "outputId": "8e7080a7-89b6-48d8-c530-2d694c264c84"
      },
      "execution_count": 30,
      "outputs": [
        {
          "output_type": "execute_result",
          "data": {
            "text/plain": [
              "dict_values([1, 2, 3])"
            ]
          },
          "metadata": {},
          "execution_count": 30
        }
      ]
    },
    {
      "cell_type": "code",
      "source": [
        "#method to return tuples of all times (we'll learn about tuples sooon)\n",
        "d.items()"
      ],
      "metadata": {
        "colab": {
          "base_uri": "https://localhost:8080/"
        },
        "id": "o8BAt6UL3GL5",
        "outputId": "58f8711c-91cc-4f8e-cfdb-9be19e61071c"
      },
      "execution_count": 31,
      "outputs": [
        {
          "output_type": "execute_result",
          "data": {
            "text/plain": [
              "dict_items([('key1', 1), ('key2', 2), ('key3', 3)])"
            ]
          },
          "metadata": {},
          "execution_count": 31
        }
      ]
    },
    {
      "cell_type": "code",
      "source": [
        ""
      ],
      "metadata": {
        "id": "z-XYKdHh3LNY"
      },
      "execution_count": 31,
      "outputs": []
    }
  ]
}