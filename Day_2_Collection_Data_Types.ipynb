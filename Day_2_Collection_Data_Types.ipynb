{
  "nbformat": 4,
  "nbformat_minor": 0,
  "metadata": {
    "colab": {
      "name": "Day-2 Collection Data Types.ipynb",
      "provenance": [],
      "collapsed_sections": [],
      "authorship_tag": "ABX9TyNkIpZ1gHYHOOa8ajs5LP4Q",
      "include_colab_link": true
    },
    "kernelspec": {
      "name": "python3",
      "display_name": "Python 3"
    },
    "language_info": {
      "name": "python"
    }
  },
  "cells": [
    {
      "cell_type": "markdown",
      "metadata": {
        "id": "view-in-github",
        "colab_type": "text"
      },
      "source": [
        "<a href=\"https://colab.research.google.com/github/juliakaneko/Micro-Credential-Winter-2022/blob/main/Day_2_Collection_Data_Types.ipynb\" target=\"_parent\"><img src=\"https://colab.research.google.com/assets/colab-badge.svg\" alt=\"Open In Colab\"/></a>"
      ]
    },
    {
      "cell_type": "markdown",
      "source": [
        "#Collection Data Types\n",
        "List, Dictionaries, Sets & Tuples\n",
        "##Lists"
      ],
      "metadata": {
        "id": "HEeoBkXUEa6c"
      }
    },
    {
      "cell_type": "code",
      "source": [
        "s = 'Hello World'"
      ],
      "metadata": {
        "id": "Te9f5HO5EmT7"
      },
      "execution_count": null,
      "outputs": []
    },
    {
      "cell_type": "code",
      "source": [
        "s"
      ],
      "metadata": {
        "colab": {
          "base_uri": "https://localhost:8080/",
          "height": 36
        },
        "id": "eESxd0GrE5to",
        "outputId": "eaeda4bf-a427-4605-9ae4-097b86385d2f"
      },
      "execution_count": null,
      "outputs": [
        {
          "output_type": "execute_result",
          "data": {
            "application/vnd.google.colaboratory.intrinsic+json": {
              "type": "string"
            },
            "text/plain": [
              "'Hello World'"
            ]
          },
          "metadata": {},
          "execution_count": 2
        }
      ]
    },
    {
      "cell_type": "code",
      "source": [
        "len(s)"
      ],
      "metadata": {
        "colab": {
          "base_uri": "https://localhost:8080/"
        },
        "id": "2IdysckKE58u",
        "outputId": "3cf13640-f776-44d6-bd12-430637d4f410"
      },
      "execution_count": null,
      "outputs": [
        {
          "output_type": "execute_result",
          "data": {
            "text/plain": [
              "11"
            ]
          },
          "metadata": {},
          "execution_count": 3
        }
      ]
    },
    {
      "cell_type": "code",
      "source": [
        "#Turns it into uppercase\n",
        "s.upper()"
      ],
      "metadata": {
        "colab": {
          "base_uri": "https://localhost:8080/",
          "height": 36
        },
        "id": "GijOwybOE6qX",
        "outputId": "8a026d7b-34af-48a0-a850-13faf8a75b8d"
      },
      "execution_count": null,
      "outputs": [
        {
          "output_type": "execute_result",
          "data": {
            "application/vnd.google.colaboratory.intrinsic+json": {
              "type": "string"
            },
            "text/plain": [
              "'HELLO WORLD'"
            ]
          },
          "metadata": {},
          "execution_count": 5
        }
      ]
    },
    {
      "cell_type": "code",
      "source": [
        "#Turns it into lower case\n",
        "s.lower()"
      ],
      "metadata": {
        "colab": {
          "base_uri": "https://localhost:8080/",
          "height": 36
        },
        "id": "x5ot9_IGE8qN",
        "outputId": "bbb7f832-8301-43c8-a2ab-2cd270861a5e"
      },
      "execution_count": null,
      "outputs": [
        {
          "output_type": "execute_result",
          "data": {
            "application/vnd.google.colaboratory.intrinsic+json": {
              "type": "string"
            },
            "text/plain": [
              "'hello world'"
            ]
          },
          "metadata": {},
          "execution_count": 7
        }
      ]
    },
    {
      "cell_type": "code",
      "source": [
        "movies = ['Star Wars', 'Star Trek', 'Lord of the Rings', 'Avenger', 'The Hobbit', \"Fast and Furious\"]"
      ],
      "metadata": {
        "id": "QGqv8kejE-my"
      },
      "execution_count": null,
      "outputs": []
    },
    {
      "cell_type": "code",
      "source": [
        "movies"
      ],
      "metadata": {
        "colab": {
          "base_uri": "https://localhost:8080/"
        },
        "id": "HjSz-8f1FOSm",
        "outputId": "86c4053d-67a8-4179-fc75-9dda47c093d0"
      },
      "execution_count": null,
      "outputs": [
        {
          "output_type": "execute_result",
          "data": {
            "text/plain": [
              "['Star Wars',\n",
              " 'Star Trek',\n",
              " 'Lord of the Rings',\n",
              " 'Avenger',\n",
              " 'The Hobbit',\n",
              " 'Fast and Furious']"
            ]
          },
          "metadata": {},
          "execution_count": 9
        }
      ]
    },
    {
      "cell_type": "code",
      "source": [
        "len(movies)"
      ],
      "metadata": {
        "colab": {
          "base_uri": "https://localhost:8080/"
        },
        "id": "4LJHYvOLFRZS",
        "outputId": "a41215ab-f286-4506-a373-8def03e8396e"
      },
      "execution_count": null,
      "outputs": [
        {
          "output_type": "execute_result",
          "data": {
            "text/plain": [
              "6"
            ]
          },
          "metadata": {},
          "execution_count": 10
        }
      ]
    },
    {
      "cell_type": "code",
      "source": [
        "movies[1]"
      ],
      "metadata": {
        "colab": {
          "base_uri": "https://localhost:8080/",
          "height": 36
        },
        "id": "DrlR8HSoFbLY",
        "outputId": "39a8287e-e765-4b9f-ac67-e86fd7393410"
      },
      "execution_count": null,
      "outputs": [
        {
          "output_type": "execute_result",
          "data": {
            "application/vnd.google.colaboratory.intrinsic+json": {
              "type": "string"
            },
            "text/plain": [
              "'Star Trek'"
            ]
          },
          "metadata": {},
          "execution_count": 13
        }
      ]
    },
    {
      "cell_type": "code",
      "source": [
        "movies[-1]"
      ],
      "metadata": {
        "colab": {
          "base_uri": "https://localhost:8080/",
          "height": 36
        },
        "id": "62CgMj24FXic",
        "outputId": "af1ec8e9-de6e-445b-dd7c-76598b879f4b"
      },
      "execution_count": null,
      "outputs": [
        {
          "output_type": "execute_result",
          "data": {
            "application/vnd.google.colaboratory.intrinsic+json": {
              "type": "string"
            },
            "text/plain": [
              "'Fast and Furious'"
            ]
          },
          "metadata": {},
          "execution_count": 11
        }
      ]
    },
    {
      "cell_type": "code",
      "source": [
        "#In the line below I am creating a list of movies.\n",
        "movies = ['Star Wars', 'Star Trek', 'Lord of the Rings', 'Avenger', 'The Hobbit', \"Fast and Furious\"]\n",
        "'''\n",
        "In the line below I am first creating a variable. Then I am assigning a couple of things.\n",
        "First, I am extracting a movie from my list by indexing through the list.\n",
        "Then I am applying the built-in method (or function) '.upper()' to the extracted movie from the list.\n",
        "The '.upper()' method capitalizes every letter - e.g. word --> WORD.\n",
        "Lastly, I am concatincating a string to my extracted movie from the list and then\n",
        "I am concatinating a string to my extracted movie from the list and then I am\n",
        "concatinating another string at the end.\n",
        "'''\n",
        "message = 'My favorite movie is ' + movies[0].upper() + '!!!'\n",
        "#In this line I am printing the content of my variable 'message' to the screen\n",
        "print (message)"
      ],
      "metadata": {
        "colab": {
          "base_uri": "https://localhost:8080/"
        },
        "id": "u_GJ9BfKFYfr",
        "outputId": "fdd9c238-7567-415b-83b7-23ee7a4677b4"
      },
      "execution_count": null,
      "outputs": [
        {
          "output_type": "stream",
          "name": "stdout",
          "text": [
            "My favorite movie is STAR WARS!!!\n"
          ]
        }
      ]
    },
    {
      "cell_type": "code",
      "source": [
        "movies"
      ],
      "metadata": {
        "colab": {
          "base_uri": "https://localhost:8080/"
        },
        "id": "JRQ-aj6u6Cme",
        "outputId": "7b4671ef-7f9c-4a0d-f384-9e771aad74ae"
      },
      "execution_count": null,
      "outputs": [
        {
          "output_type": "execute_result",
          "data": {
            "text/plain": [
              "['Star Wars',\n",
              " 'Star Trek',\n",
              " 'Lord of the Rings',\n",
              " 'Avenger',\n",
              " 'The Hobbit',\n",
              " 'Fast and Furious']"
            ]
          },
          "metadata": {},
          "execution_count": 11
        }
      ]
    },
    {
      "cell_type": "code",
      "source": [
        "#Change the first movie from Star Wars to the Matrix\n",
        "movies[1]= 'The Matrix'"
      ],
      "metadata": {
        "id": "w1FZnX_AFocn"
      },
      "execution_count": null,
      "outputs": []
    },
    {
      "cell_type": "code",
      "source": [
        "movies"
      ],
      "metadata": {
        "colab": {
          "base_uri": "https://localhost:8080/"
        },
        "id": "v81UROnnFurf",
        "outputId": "f15ab6e7-fc0d-4ed5-c7c7-c6f7efc48586"
      },
      "execution_count": null,
      "outputs": [
        {
          "output_type": "execute_result",
          "data": {
            "text/plain": [
              "['Star Wars',\n",
              " 'The Matrix',\n",
              " 'Lord of the Rings',\n",
              " 'Avenger',\n",
              " 'The Hobbit',\n",
              " 'Fast and Furious']"
            ]
          },
          "metadata": {},
          "execution_count": 13
        }
      ]
    },
    {
      "cell_type": "code",
      "source": [
        "#Add new movie into list\n",
        "movies.append('Frozen')"
      ],
      "metadata": {
        "id": "KXBM2ZW3GAHZ"
      },
      "execution_count": null,
      "outputs": []
    },
    {
      "cell_type": "code",
      "source": [
        "movies"
      ],
      "metadata": {
        "colab": {
          "base_uri": "https://localhost:8080/"
        },
        "id": "tp8datGFHjNV",
        "outputId": "e4ee4c36-424c-41f9-ae18-13635bcd5780"
      },
      "execution_count": null,
      "outputs": [
        {
          "output_type": "execute_result",
          "data": {
            "text/plain": [
              "['Star Wars',\n",
              " 'The Matrix',\n",
              " 'Lord of the Rings',\n",
              " 'Avenger',\n",
              " 'The Hobbit',\n",
              " 'Fast and Furious',\n",
              " 'Frozen']"
            ]
          },
          "metadata": {},
          "execution_count": 15
        }
      ]
    },
    {
      "cell_type": "code",
      "source": [
        "movies.append('Ghost in the Shell')"
      ],
      "metadata": {
        "id": "VKYFvh226UxU"
      },
      "execution_count": null,
      "outputs": []
    },
    {
      "cell_type": "code",
      "source": [
        "movies"
      ],
      "metadata": {
        "colab": {
          "base_uri": "https://localhost:8080/"
        },
        "id": "PlcwyfDj6ZqF",
        "outputId": "d5ce21df-92e2-4c23-b5f6-db33458c536b"
      },
      "execution_count": null,
      "outputs": [
        {
          "output_type": "execute_result",
          "data": {
            "text/plain": [
              "['Star Wars',\n",
              " 'The Matrix',\n",
              " 'Lord of the Rings',\n",
              " 'Avenger',\n",
              " 'The Hobbit',\n",
              " 'Fast and Furious',\n",
              " 'Frozen',\n",
              " 'Ghost in the Shell']"
            ]
          },
          "metadata": {},
          "execution_count": 18
        }
      ]
    },
    {
      "cell_type": "code",
      "source": [
        "movies2 = ['Speed', 'Archive']"
      ],
      "metadata": {
        "id": "-Mykrfkl6c9g"
      },
      "execution_count": null,
      "outputs": []
    },
    {
      "cell_type": "code",
      "source": [
        "movies.append(movies2)"
      ],
      "metadata": {
        "id": "2BFYakjz6hYp"
      },
      "execution_count": null,
      "outputs": []
    },
    {
      "cell_type": "code",
      "source": [
        "movies"
      ],
      "metadata": {
        "colab": {
          "base_uri": "https://localhost:8080/"
        },
        "id": "bolzH_Wy6j2Y",
        "outputId": "88874d01-d871-425f-c56a-87a4e96fedfc"
      },
      "execution_count": null,
      "outputs": [
        {
          "output_type": "execute_result",
          "data": {
            "text/plain": [
              "['Star Wars',\n",
              " 'The Matrix',\n",
              " 'Lord of the Rings',\n",
              " 'Avenger',\n",
              " 'The Hobbit',\n",
              " 'Fast and Furious',\n",
              " 'Frozen',\n",
              " 'Ghost in the Shell',\n",
              " ['Speed', 'Archive']]"
            ]
          },
          "metadata": {},
          "execution_count": 21
        }
      ]
    },
    {
      "cell_type": "code",
      "source": [
        "#delete the 3rd movie = Lord of the Ring.\n",
        "del movies[2]"
      ],
      "metadata": {
        "id": "ENLlP4J-HkAv"
      },
      "execution_count": null,
      "outputs": []
    },
    {
      "cell_type": "code",
      "source": [
        "movies"
      ],
      "metadata": {
        "colab": {
          "base_uri": "https://localhost:8080/"
        },
        "id": "_ioUckSr6pvN",
        "outputId": "957ef872-f033-4534-8c95-82c1661b1fcf"
      },
      "execution_count": null,
      "outputs": [
        {
          "output_type": "execute_result",
          "data": {
            "text/plain": [
              "['Star Wars',\n",
              " 'The Matrix',\n",
              " 'The Hobbit',\n",
              " 'Fast and Furious',\n",
              " 'Frozen',\n",
              " 'Ghost in the Shell',\n",
              " ['Speed', 'Archive']]"
            ]
          },
          "metadata": {},
          "execution_count": 26
        }
      ]
    },
    {
      "cell_type": "code",
      "source": [
        "#deletes the specific movie = The Hobbit\n",
        "movies.remove('The Hobbit')"
      ],
      "metadata": {
        "id": "NPsXe1k1HqEk"
      },
      "execution_count": null,
      "outputs": []
    },
    {
      "cell_type": "code",
      "source": [
        "movies"
      ],
      "metadata": {
        "colab": {
          "base_uri": "https://localhost:8080/"
        },
        "id": "xgD4IaTJIDRg",
        "outputId": "8d690e70-4be0-4c1f-a768-e38f70580bbd"
      },
      "execution_count": null,
      "outputs": [
        {
          "output_type": "execute_result",
          "data": {
            "text/plain": [
              "['The Matrix', 'Star Trek', 'Fast and Furious', 'Frozen', 'Frozen', 'Frozen']"
            ]
          },
          "metadata": {},
          "execution_count": 42
        }
      ]
    },
    {
      "cell_type": "code",
      "source": [
        "print(movies)"
      ],
      "metadata": {
        "colab": {
          "base_uri": "https://localhost:8080/"
        },
        "id": "-hed7or1ING5",
        "outputId": "cd10e702-3b21-4dc9-c5d9-28f2b0a2318f"
      },
      "execution_count": null,
      "outputs": [
        {
          "output_type": "stream",
          "name": "stdout",
          "text": [
            "['The Matrix', 'Star Trek', 'Frozen', 'Frozen', 'Frozen', 'Fast and Furious']\n"
          ]
        }
      ]
    },
    {
      "cell_type": "code",
      "source": [
        "movies2 = ['Speed', 'Archive']"
      ],
      "metadata": {
        "id": "CCB4zpO0scbJ"
      },
      "execution_count": null,
      "outputs": []
    },
    {
      "cell_type": "code",
      "source": [
        "movies.append(movies2)"
      ],
      "metadata": {
        "id": "7U2e1ewpsgUR",
        "outputId": "c11c1f3d-2034-4ba0-e506-e290f652fa25",
        "colab": {
          "base_uri": "https://localhost:8080/",
          "height": 201
        }
      },
      "execution_count": null,
      "outputs": [
        {
          "output_type": "error",
          "ename": "NameError",
          "evalue": "ignored",
          "traceback": [
            "\u001b[0;31m---------------------------------------------------------------------------\u001b[0m",
            "\u001b[0;31mNameError\u001b[0m                                 Traceback (most recent call last)",
            "\u001b[0;32m<ipython-input-8-780bee9e21fe>\u001b[0m in \u001b[0;36m<module>\u001b[0;34m()\u001b[0m\n\u001b[0;32m----> 1\u001b[0;31m \u001b[0mmovies\u001b[0m\u001b[0;34m.\u001b[0m\u001b[0mappend\u001b[0m\u001b[0;34m(\u001b[0m\u001b[0mmovies2\u001b[0m\u001b[0;34m)\u001b[0m\u001b[0;34m\u001b[0m\u001b[0;34m\u001b[0m\u001b[0m\n\u001b[0m",
            "\u001b[0;31mNameError\u001b[0m: name 'movies' is not defined"
          ]
        }
      ]
    },
    {
      "cell_type": "markdown",
      "source": [
        "## Convert a integer number into Binary, Octal and Hexadecimal"
      ],
      "metadata": {
        "id": "lfkMTLsPIPmi"
      }
    },
    {
      "cell_type": "code",
      "source": [
        "x=int(input(\"Enter number: \"))\n",
        "print(f'Binary value is {bin(x)}')\n",
        "print(f'Octal value is {oct(x)}')\n",
        "print(f'Hexadecimal value is {hex(num)}')\n",
        "print(f'Binary value is {bin(x)}, Octal value is {oct(x)}, Hexadecimal value is {hex(x)}')"
      ],
      "metadata": {
        "colab": {
          "base_uri": "https://localhost:8080/"
        },
        "id": "ryS2sAYzIwUS",
        "outputId": "4f075253-0acd-44f6-b6ee-10d326cdb41c"
      },
      "execution_count": null,
      "outputs": [
        {
          "output_type": "stream",
          "name": "stdout",
          "text": [
            "Enter number: 10\n",
            "Binary value is 0b1010\n",
            "Octal value is 0o12\n",
            "Hexadecimal value is 0xa\n",
            "Binary value is 0b1010, Octal value is 0o12, Hexadecimal value is 0xa\n"
          ]
        }
      ]
    },
    {
      "cell_type": "code",
      "source": [
        ""
      ],
      "metadata": {
        "id": "c0yqCDImrx5S"
      },
      "execution_count": null,
      "outputs": []
    }
  ]
}