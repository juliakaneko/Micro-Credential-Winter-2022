{
  "nbformat": 4,
  "nbformat_minor": 0,
  "metadata": {
    "colab": {
      "name": "Day 4 Assignment.ipynb",
      "provenance": [],
      "collapsed_sections": [],
      "authorship_tag": "ABX9TyMtnST2u5Alz28f7aaLTgc4",
      "include_colab_link": true
    },
    "kernelspec": {
      "name": "python3",
      "display_name": "Python 3"
    },
    "language_info": {
      "name": "python"
    }
  },
  "cells": [
    {
      "cell_type": "markdown",
      "metadata": {
        "id": "view-in-github",
        "colab_type": "text"
      },
      "source": [
        "<a href=\"https://colab.research.google.com/github/juliakaneko/Micro-Credential-Winter-2022/blob/main/Day_4_Assignment.ipynb\" target=\"_parent\"><img src=\"https://colab.research.google.com/assets/colab-badge.svg\" alt=\"Open In Colab\"/></a>"
      ]
    },
    {
      "cell_type": "code",
      "source": [
        "#Define your function\n",
        "def OddEven(num):\n",
        "#Using the modulo function check if the number divided by two has a remainder of 0\n",
        "  if num % 2 == 0:\n",
        "#If Yes\n",
        "    print (f\"{num} will be even\")\n",
        "#After you find out the number is even check if it is a multiple of 4\n",
        "    if num % 4 ==0:\n",
        "      print (f\"{num} will be a multiple of 4\")\n",
        "    else:\n",
        "      print (f\"{num} will not be a multiple of 4\")\n",
        "#If No\n",
        "  else:\n",
        "    return f\"{num} is odd\"\n",
        "\n",
        "#Creates a loop\n",
        "while True:\n",
        "  num = int(input(\"Input Number: \"))\n",
        "  print(OddEven(num))\n",
        "  \n",
        "  cont = input(\"Do you want to try a new number? (yes/no):\")\n",
        "  if cont == \"no\":\n",
        "    print(\"Adios\")\n",
        "    break"
      ],
      "metadata": {
        "colab": {
          "base_uri": "https://localhost:8080/"
        },
        "id": "jNFm-stfyfn5",
        "outputId": "b6b84ce4-e404-45e3-e140-39109c2e64ea"
      },
      "execution_count": 48,
      "outputs": [
        {
          "output_type": "stream",
          "name": "stdout",
          "text": [
            "Input Number: 2\n",
            "2 will be even\n",
            "2 will not be a multiple of 4\n",
            "None\n",
            "Do you want to try a new number? (yes/no):yes\n",
            "Input Number: 4\n",
            "4 will be even\n",
            "4 will be a multiple of 4\n",
            "None\n",
            "Do you want to try a new number? (yes/no):yes\n",
            "Input Number: 3\n",
            "3 is odd\n",
            "Do you want to try a new number? (yes/no):no\n",
            "Adios\n"
          ]
        }
      ]
    },
    {
      "cell_type": "code",
      "source": [
        "num = int(input(\"Input Number: \"))\n",
        "\n",
        "if num % 4 ==0:\n",
        "  print (f\"{num} will be a multiple of 4\")\n",
        "else:\n",
        "  print (f\"{num} will not be a multiple of 4\")"
      ],
      "metadata": {
        "colab": {
          "base_uri": "https://localhost:8080/"
        },
        "id": "CUhOcfqP2I73",
        "outputId": "647bea25-dd97-41e6-b788-63260e71fdfa"
      },
      "execution_count": 44,
      "outputs": [
        {
          "output_type": "stream",
          "name": "stdout",
          "text": [
            "Input Number: 4\n",
            "4 will be a multiple of 4\n"
          ]
        }
      ]
    },
    {
      "cell_type": "code",
      "source": [
        ""
      ],
      "metadata": {
        "id": "KChAV2iv5e7h"
      },
      "execution_count": null,
      "outputs": []
    }
  ]
}