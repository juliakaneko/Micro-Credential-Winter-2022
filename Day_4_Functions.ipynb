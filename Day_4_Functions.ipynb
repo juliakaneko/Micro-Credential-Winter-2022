{
  "nbformat": 4,
  "nbformat_minor": 0,
  "metadata": {
    "colab": {
      "name": "Day-4 Functions.ipynb",
      "provenance": [],
      "collapsed_sections": [],
      "authorship_tag": "ABX9TyNGWaL+7/MvNMdfiKGAKZhi",
      "include_colab_link": true
    },
    "kernelspec": {
      "name": "python3",
      "display_name": "Python 3"
    },
    "language_info": {
      "name": "python"
    }
  },
  "cells": [
    {
      "cell_type": "markdown",
      "metadata": {
        "id": "view-in-github",
        "colab_type": "text"
      },
      "source": [
        "<a href=\"https://colab.research.google.com/github/juliakaneko/Micro-Credential-Winter-2022/blob/main/Day_4_Functions.ipynb\" target=\"_parent\"><img src=\"https://colab.research.google.com/assets/colab-badge.svg\" alt=\"Open In Colab\"/></a>"
      ]
    },
    {
      "cell_type": "markdown",
      "source": [
        "# Functions\n",
        "\n",
        "So what is a function?\n",
        "\n",
        "Formally, a function is a useful device that groups together a set of statements so they can be run more than once. They can also let us specify parameters that can serve as inputs to the functions.\n",
        "\n",
        "On a more fundamental level, functions allow us to not have to repeatedly write the same code again and again. If you remember back to the lessons on strings and lists, remember that we used a function len() to get the length of a string. Since checking the length of a sequence is a common task you would want to write a function that can do this repeatedly at command.\n",
        "\n",
        "Functions will be one of most basic levels of reusing code in Python, and it will also allow us to start thinking of program design (we will dive much deeper into the ideas of design when we learn about Object Oriented Programming)."
      ],
      "metadata": {
        "id": "R3sshvYWuDwU"
      }
    },
    {
      "cell_type": "markdown",
      "source": [
        "## def Statements\n",
        "Let's see how to build out a function's syntax in Python. It has the following form:"
      ],
      "metadata": {
        "id": "R8InkUFb0A6X"
      }
    },
    {
      "cell_type": "code",
      "source": [
        "'''\n",
        "Apply the three questions.\n",
        "1. What do I want?\n",
        "2. What do I neeed?\n",
        "3. What do I have?\n",
        "'''\n",
        "def name_of_function(arg1,arg2):\n",
        "    '''\n",
        "    This is where the function's Document String (doc-string) goes\n",
        "    '''\n",
        "    # Do stuff here\n",
        "    #return desired result\n",
        "    #def = defines out function"
      ],
      "metadata": {
        "id": "peHB-wH-zdGp"
      },
      "execution_count": null,
      "outputs": []
    },
    {
      "cell_type": "code",
      "source": [
        "'''\n",
        "camelCase \n",
        "#every word is upper case\n",
        "pascalCase\n",
        "You can write a variable with an underscore\n",
        "_variable\n",
        "\n",
        "\n",
        "Best Practices of Functions\n",
        "name_of_function()\n",
        "any_name_you_want()\n",
        "Created a variable named cars\n",
        "cars = ['oranges','bananas']\n",
        "temp_conv()\n",
        "'''"
      ],
      "metadata": {
        "colab": {
          "base_uri": "https://localhost:8080/",
          "height": 87
        },
        "id": "nQFmDupkzdEW",
        "outputId": "bde8a449-92b5-45eb-afa0-9cc00cc40fbd"
      },
      "execution_count": null,
      "outputs": [
        {
          "output_type": "execute_result",
          "data": {
            "application/vnd.google.colaboratory.intrinsic+json": {
              "type": "string"
            },
            "text/plain": [
              "\"\\ncamelCase \\n#every word is upper case\\npascalCase\\nYou can write a variable with an underscore\\n_variable\\n\\n\\nBest Practices of Functions\\nname_of_function()\\nany_name_you_want()\\nCreated a variable named cars\\ncars = ['oranges','bananas']\\ntemp_conv()\\n\""
            ]
          },
          "metadata": {},
          "execution_count": 8
        }
      ]
    },
    {
      "cell_type": "code",
      "source": [
        "def greeting():\n",
        "  \"\"\"\n",
        "  Author: Who did this function.\n",
        "  Input: What argiumrents the function takes.\n",
        "  Output: This function displays a greeting\n",
        "  \"\"\"\n",
        "  print('Hi there')"
      ],
      "metadata": {
        "id": "k--8mZpXzdCP"
      },
      "execution_count": null,
      "outputs": []
    },
    {
      "cell_type": "code",
      "source": [
        "greeting()"
      ],
      "metadata": {
        "colab": {
          "base_uri": "https://localhost:8080/"
        },
        "id": "txZu5_zhzdAQ",
        "outputId": "c6cb8fab-28b5-4a56-e776-aedf458645ba"
      },
      "execution_count": null,
      "outputs": [
        {
          "output_type": "stream",
          "name": "stdout",
          "text": [
            "Hi there\n"
          ]
        }
      ]
    },
    {
      "cell_type": "code",
      "source": [
        "help(greeting)"
      ],
      "metadata": {
        "colab": {
          "base_uri": "https://localhost:8080/"
        },
        "id": "IOG4EEMJzc-S",
        "outputId": "961bd37d-43cf-4cc6-a2ad-4243c83058d0"
      },
      "execution_count": null,
      "outputs": [
        {
          "output_type": "stream",
          "name": "stdout",
          "text": [
            "Help on function greeting in module __main__:\n",
            "\n",
            "greeting()\n",
            "    Author: Who did this function.\n",
            "    Input: What argiumrents the function takes.\n",
            "    Output: This function displays a greeting\n",
            "\n"
          ]
        }
      ]
    },
    {
      "cell_type": "code",
      "source": [
        "def greeting():\n",
        "  print('Hello, my name is Julia. How are you today?')"
      ],
      "metadata": {
        "id": "lFOHpNtbzc8X"
      },
      "execution_count": null,
      "outputs": []
    },
    {
      "cell_type": "code",
      "source": [
        "greeting()"
      ],
      "metadata": {
        "colab": {
          "base_uri": "https://localhost:8080/"
        },
        "id": "MvlYZTUvzc6Q",
        "outputId": "1e5c0e29-d607-4679-f219-24d5274fc674"
      },
      "execution_count": null,
      "outputs": [
        {
          "output_type": "stream",
          "name": "stdout",
          "text": [
            "Hello, my name is Julia. How are you today?\n"
          ]
        }
      ]
    },
    {
      "cell_type": "code",
      "source": [
        "help(greeting)"
      ],
      "metadata": {
        "colab": {
          "base_uri": "https://localhost:8080/"
        },
        "id": "ZU_idKvxzccR",
        "outputId": "1532eabf-7224-4960-b29c-60f592ac0130"
      },
      "execution_count": null,
      "outputs": [
        {
          "output_type": "stream",
          "name": "stdout",
          "text": [
            "Help on function greeting in module __main__:\n",
            "\n",
            "greeting()\n",
            "\n"
          ]
        }
      ]
    },
    {
      "cell_type": "code",
      "source": [
        "#Extra_1\n",
        "def greeting():\n",
        "  name = input(\"your name: \")\n",
        "  print(f'Hi there, welcome {name}')"
      ],
      "metadata": {
        "id": "ONI0tizR4kIa"
      },
      "execution_count": null,
      "outputs": []
    },
    {
      "cell_type": "code",
      "source": [
        "greeting()"
      ],
      "metadata": {
        "colab": {
          "base_uri": "https://localhost:8080/"
        },
        "id": "IMRGJ5v-6FTV",
        "outputId": "676d2305-05f5-49fe-97f4-7b6ee7ee5477"
      },
      "execution_count": null,
      "outputs": [
        {
          "output_type": "stream",
          "name": "stdout",
          "text": [
            "your name: Julia\n",
            "Hi there, welcome Julia\n"
          ]
        }
      ]
    },
    {
      "cell_type": "code",
      "source": [
        "#Extra_2\n",
        "def greeting(name):\n",
        "  print('please leave ' + name)"
      ],
      "metadata": {
        "id": "c_k_7dH36MZd"
      },
      "execution_count": null,
      "outputs": []
    },
    {
      "cell_type": "code",
      "source": [
        "greeting(\"Omicron\")"
      ],
      "metadata": {
        "colab": {
          "base_uri": "https://localhost:8080/"
        },
        "id": "0WMEiNun6374",
        "outputId": "0c8a094c-f55a-4347-eed4-5d04c3f2289b"
      },
      "execution_count": null,
      "outputs": [
        {
          "output_type": "stream",
          "name": "stdout",
          "text": [
            "please leave Omicron\n"
          ]
        }
      ]
    },
    {
      "cell_type": "code",
      "source": [
        "help(greeting)"
      ],
      "metadata": {
        "colab": {
          "base_uri": "https://localhost:8080/"
        },
        "id": "GJiiX7Xt677b",
        "outputId": "df8d3101-b1cb-4498-87d1-bbeb3ce8db48"
      },
      "execution_count": null,
      "outputs": [
        {
          "output_type": "stream",
          "name": "stdout",
          "text": [
            "Help on function greeting in module __main__:\n",
            "\n",
            "greeting(name)\n",
            "    #Extra_2\n",
            "\n"
          ]
        }
      ]
    },
    {
      "cell_type": "code",
      "source": [
        "def add_num(num1,num2):\n",
        "  return num1+num2"
      ],
      "metadata": {
        "id": "6Fw2W9SP7F91"
      },
      "execution_count": null,
      "outputs": []
    },
    {
      "cell_type": "code",
      "source": [
        "add_num(3,6)"
      ],
      "metadata": {
        "colab": {
          "base_uri": "https://localhost:8080/"
        },
        "id": "u-2uVcoe84e8",
        "outputId": "ba6726d5-d717-4bf7-926d-e827252edce8"
      },
      "execution_count": null,
      "outputs": [
        {
          "output_type": "execute_result",
          "data": {
            "text/plain": [
              "9"
            ]
          },
          "metadata": {},
          "execution_count": 49
        }
      ]
    },
    {
      "cell_type": "code",
      "source": [
        "#Python can decipher whether you are using a number\n",
        "add_num('d','g')"
      ],
      "metadata": {
        "colab": {
          "base_uri": "https://localhost:8080/",
          "height": 35
        },
        "id": "JvZosYAv86GV",
        "outputId": "1bb46d75-34c8-4db7-8f7b-adf5fd3a8e93"
      },
      "execution_count": null,
      "outputs": [
        {
          "output_type": "execute_result",
          "data": {
            "application/vnd.google.colaboratory.intrinsic+json": {
              "type": "string"
            },
            "text/plain": [
              "'dg'"
            ]
          },
          "metadata": {},
          "execution_count": 51
        }
      ]
    },
    {
      "cell_type": "code",
      "source": [
        "#This is okay as well\n",
        "def add_num(x,y):\n",
        "  return x+y"
      ],
      "metadata": {
        "id": "c6ZH2CH59Gqm"
      },
      "execution_count": null,
      "outputs": []
    },
    {
      "cell_type": "code",
      "source": [
        "add_num(4,6)"
      ],
      "metadata": {
        "colab": {
          "base_uri": "https://localhost:8080/"
        },
        "id": "9dHoYLbb9Yw2",
        "outputId": "ee96c4e2-1f90-4535-c4e1-0fd58a662296"
      },
      "execution_count": null,
      "outputs": [
        {
          "output_type": "execute_result",
          "data": {
            "text/plain": [
              "10"
            ]
          },
          "metadata": {},
          "execution_count": 57
        }
      ]
    },
    {
      "cell_type": "code",
      "source": [
        "def sub_num(a,b):\n",
        "  if a>b:\n",
        "    return a-b\n",
        "  else:\n",
        "      print('this will result a negative number')"
      ],
      "metadata": {
        "id": "UyAKV-vs9ad5"
      },
      "execution_count": null,
      "outputs": []
    },
    {
      "cell_type": "code",
      "source": [
        "sub_num(1,3)"
      ],
      "metadata": {
        "colab": {
          "base_uri": "https://localhost:8080/"
        },
        "id": "YsHYVtWj-mJZ",
        "outputId": "4c158f04-1424-4e6e-9d41-62ae1e639b13"
      },
      "execution_count": null,
      "outputs": [
        {
          "output_type": "stream",
          "name": "stdout",
          "text": [
            "this will result a negative number\n"
          ]
        }
      ]
    },
    {
      "cell_type": "markdown",
      "source": [
        "# Create a simple caluculator"
      ],
      "metadata": {
        "id": "hmXLnfBY-xdW"
      }
    },
    {
      "cell_type": "code",
      "source": [
        "#Defining the functions\n",
        "def add(num1, num2):\n",
        "    return num1 + num2\n",
        "def subtract(num1, num2):\n",
        "    return num1 - num2\n",
        "def multiply(num1, num2):\n",
        "    return num1 * num2\n",
        "def divide(num1, num2):\n",
        "    return num1 / num2\n",
        "#Options \n",
        "print(\"Pick 1:D\")\n",
        "print(\"1. Add\")\n",
        "print(\"2. Subtract\")\n",
        "print(\"3. Multiply\")\n",
        "print(\"4. Divide\")\n",
        "print(\"5. Exponent\")\n",
        "#Input time\n",
        "while True:\n",
        "    option = input(\"Enter choice(1/2/3/4/5): \")\n",
        "    print('Good Choice!')\n",
        "    if option in ('1', '2', '3', '4','5'):\n",
        "        num1 = float(input(\"What number? \"))\n",
        "        num2 = float(input(\"With what? \"))\n",
        "        if option == '1':\n",
        "            print(num1, \"+\", num2, \"=\", add(num1, num2))\n",
        "        elif option == '2':\n",
        "            print(num1, \"-\", num2, \"=\", subtract(num1, num2))\n",
        "        elif option == '3':\n",
        "            print(num1, \"*\", num2, \"=\", multiply(num1, num2))\n",
        "        elif option == '4':\n",
        "            print(num1, \"/\", num2, \"=\", divide(num1, num2))\n",
        "        elif option == '5':\n",
        "            print(num1, \"^\", num2, \"=\", num1**num2)\n",
        "        break\n",
        "    else:\n",
        "        print(\"What are you doing?\")"
      ],
      "metadata": {
        "colab": {
          "base_uri": "https://localhost:8080/"
        },
        "id": "SZi2-faZ_g88",
        "outputId": "a78066ad-75ee-4600-d5ef-146f5bf3d1e7"
      },
      "execution_count": null,
      "outputs": [
        {
          "output_type": "stream",
          "name": "stdout",
          "text": [
            "Pick 1:D\n",
            "1. Add\n",
            "2. Subtract\n",
            "3. Multiply\n",
            "4. Divide\n",
            "5. Exponent\n",
            "Enter choice(1/2/3/4/5): 1\n",
            "Good Choice!\n",
            "What number? 5\n",
            "With what? 3\n",
            "5.0 + 3.0 = 8.0\n"
          ]
        }
      ]
    },
    {
      "cell_type": "code",
      "source": [
        ""
      ],
      "metadata": {
        "id": "SPHoNZXCFlIb"
      },
      "execution_count": null,
      "outputs": []
    }
  ]
}